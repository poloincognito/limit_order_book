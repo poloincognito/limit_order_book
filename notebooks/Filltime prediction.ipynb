{
 "cells": [
  {
   "cell_type": "code",
   "execution_count": 1,
   "id": "b8b46c54",
   "metadata": {
    "id": "b8b46c54"
   },
   "outputs": [],
   "source": [
    "import tensorflow as tf\n",
    "import optuna\n",
    "import shap\n",
    "from tensorflow.keras.models import Model\n",
    "import pandas as pd\n",
    "import numpy as np\n",
    "import matplotlib.pyplot as plt\n",
    "from tensorflow.keras import layers, models, backend, constraints, initializers, regularizers\n",
    "from sklearn.preprocessing import StandardScaler\n",
    "from sklearn.utils import class_weight\n",
    "from sklearn.model_selection import train_test_split\n",
    "from keras_self_attention import SeqSelfAttention\n",
    "from tensorflow.keras.metrics import Accuracy, Precision, Recall, AUC\n",
    "from tensorflow.keras.optimizers.legacy import RMSprop"
   ]
  },
  {
   "cell_type": "code",
   "execution_count": 2,
   "id": "2cd9ab35",
   "metadata": {
    "id": "2cd9ab35"
   },
   "outputs": [
    {
     "data": {
      "text/html": [
       "<div>\n",
       "<style scoped>\n",
       "    .dataframe tbody tr th:only-of-type {\n",
       "        vertical-align: middle;\n",
       "    }\n",
       "\n",
       "    .dataframe tbody tr th {\n",
       "        vertical-align: top;\n",
       "    }\n",
       "\n",
       "    .dataframe thead th {\n",
       "        text-align: right;\n",
       "    }\n",
       "</style>\n",
       "<table border=\"1\" class=\"dataframe\">\n",
       "  <thead>\n",
       "    <tr style=\"text-align: right;\">\n",
       "      <th></th>\n",
       "      <th>timestamp</th>\n",
       "      <th>bid_prices_0</th>\n",
       "      <th>ask_prices_0</th>\n",
       "      <th>bid_quantity_0</th>\n",
       "      <th>ask_quantity_0</th>\n",
       "      <th>bid_prices_1</th>\n",
       "      <th>ask_prices_1</th>\n",
       "      <th>bid_quantity_1</th>\n",
       "      <th>ask_quantity_1</th>\n",
       "      <th>bid_prices_2</th>\n",
       "      <th>...</th>\n",
       "      <th>time_ask_prices_1</th>\n",
       "      <th>time_bid_prices_2</th>\n",
       "      <th>time_ask_prices_2</th>\n",
       "      <th>time_bid_prices_3</th>\n",
       "      <th>time_ask_prices_3</th>\n",
       "      <th>time_bid_prices_4</th>\n",
       "      <th>time_ask_prices_4</th>\n",
       "      <th>vol_imbalance</th>\n",
       "      <th>microprice</th>\n",
       "      <th>daily_volatility</th>\n",
       "    </tr>\n",
       "  </thead>\n",
       "  <tbody>\n",
       "    <tr>\n",
       "      <th>999</th>\n",
       "      <td>2023-10-02 00:00:06.051655936</td>\n",
       "      <td>27993.64</td>\n",
       "      <td>27996.08</td>\n",
       "      <td>0.072713</td>\n",
       "      <td>0.188</td>\n",
       "      <td>27993.41</td>\n",
       "      <td>27996.38</td>\n",
       "      <td>0.150000</td>\n",
       "      <td>0.060000</td>\n",
       "      <td>27993.40</td>\n",
       "      <td>...</td>\n",
       "      <td>0</td>\n",
       "      <td>1</td>\n",
       "      <td>0</td>\n",
       "      <td>1</td>\n",
       "      <td>0</td>\n",
       "      <td>1</td>\n",
       "      <td>0</td>\n",
       "      <td>-0.442198</td>\n",
       "      <td>27995.399481</td>\n",
       "      <td>494.105453</td>\n",
       "    </tr>\n",
       "    <tr>\n",
       "      <th>1000</th>\n",
       "      <td>2023-10-02 00:00:06.051817984</td>\n",
       "      <td>27993.64</td>\n",
       "      <td>27996.08</td>\n",
       "      <td>0.072713</td>\n",
       "      <td>0.188</td>\n",
       "      <td>27993.41</td>\n",
       "      <td>27996.99</td>\n",
       "      <td>0.150000</td>\n",
       "      <td>0.177791</td>\n",
       "      <td>27993.40</td>\n",
       "      <td>...</td>\n",
       "      <td>0</td>\n",
       "      <td>1</td>\n",
       "      <td>0</td>\n",
       "      <td>1</td>\n",
       "      <td>0</td>\n",
       "      <td>1</td>\n",
       "      <td>0</td>\n",
       "      <td>-0.442198</td>\n",
       "      <td>27995.399481</td>\n",
       "      <td>494.105453</td>\n",
       "    </tr>\n",
       "    <tr>\n",
       "      <th>1001</th>\n",
       "      <td>2023-10-02 00:00:06.051911168</td>\n",
       "      <td>27993.64</td>\n",
       "      <td>27996.08</td>\n",
       "      <td>0.072713</td>\n",
       "      <td>0.188</td>\n",
       "      <td>27993.41</td>\n",
       "      <td>27996.99</td>\n",
       "      <td>0.150000</td>\n",
       "      <td>0.177791</td>\n",
       "      <td>27993.40</td>\n",
       "      <td>...</td>\n",
       "      <td>0</td>\n",
       "      <td>1</td>\n",
       "      <td>0</td>\n",
       "      <td>1</td>\n",
       "      <td>0</td>\n",
       "      <td>1</td>\n",
       "      <td>0</td>\n",
       "      <td>-0.442198</td>\n",
       "      <td>27995.399481</td>\n",
       "      <td>494.105386</td>\n",
       "    </tr>\n",
       "    <tr>\n",
       "      <th>1002</th>\n",
       "      <td>2023-10-02 00:00:06.051913984</td>\n",
       "      <td>27993.41</td>\n",
       "      <td>27996.08</td>\n",
       "      <td>0.150000</td>\n",
       "      <td>0.188</td>\n",
       "      <td>27993.40</td>\n",
       "      <td>27996.99</td>\n",
       "      <td>0.250000</td>\n",
       "      <td>0.177791</td>\n",
       "      <td>27992.96</td>\n",
       "      <td>...</td>\n",
       "      <td>0</td>\n",
       "      <td>1</td>\n",
       "      <td>0</td>\n",
       "      <td>1</td>\n",
       "      <td>0</td>\n",
       "      <td>1</td>\n",
       "      <td>0</td>\n",
       "      <td>-0.112426</td>\n",
       "      <td>27994.895089</td>\n",
       "      <td>494.065679</td>\n",
       "    </tr>\n",
       "    <tr>\n",
       "      <th>1003</th>\n",
       "      <td>2023-10-02 00:00:06.052875008</td>\n",
       "      <td>27993.41</td>\n",
       "      <td>27996.08</td>\n",
       "      <td>0.150000</td>\n",
       "      <td>0.188</td>\n",
       "      <td>27993.40</td>\n",
       "      <td>27996.99</td>\n",
       "      <td>0.250000</td>\n",
       "      <td>0.177791</td>\n",
       "      <td>27992.96</td>\n",
       "      <td>...</td>\n",
       "      <td>0</td>\n",
       "      <td>1</td>\n",
       "      <td>0</td>\n",
       "      <td>1</td>\n",
       "      <td>0</td>\n",
       "      <td>1</td>\n",
       "      <td>0</td>\n",
       "      <td>-0.112426</td>\n",
       "      <td>27994.895089</td>\n",
       "      <td>494.065680</td>\n",
       "    </tr>\n",
       "    <tr>\n",
       "      <th>...</th>\n",
       "      <td>...</td>\n",
       "      <td>...</td>\n",
       "      <td>...</td>\n",
       "      <td>...</td>\n",
       "      <td>...</td>\n",
       "      <td>...</td>\n",
       "      <td>...</td>\n",
       "      <td>...</td>\n",
       "      <td>...</td>\n",
       "      <td>...</td>\n",
       "      <td>...</td>\n",
       "      <td>...</td>\n",
       "      <td>...</td>\n",
       "      <td>...</td>\n",
       "      <td>...</td>\n",
       "      <td>...</td>\n",
       "      <td>...</td>\n",
       "      <td>...</td>\n",
       "      <td>...</td>\n",
       "      <td>...</td>\n",
       "      <td>...</td>\n",
       "    </tr>\n",
       "    <tr>\n",
       "      <th>103081</th>\n",
       "      <td>2023-10-02 00:10:12.153671936</td>\n",
       "      <td>27968.27</td>\n",
       "      <td>27970.24</td>\n",
       "      <td>0.171501</td>\n",
       "      <td>0.020</td>\n",
       "      <td>27968.26</td>\n",
       "      <td>27970.25</td>\n",
       "      <td>0.020000</td>\n",
       "      <td>0.053564</td>\n",
       "      <td>27967.98</td>\n",
       "      <td>...</td>\n",
       "      <td>0</td>\n",
       "      <td>1</td>\n",
       "      <td>0</td>\n",
       "      <td>1</td>\n",
       "      <td>0</td>\n",
       "      <td>1</td>\n",
       "      <td>0</td>\n",
       "      <td>0.791124</td>\n",
       "      <td>27968.475743</td>\n",
       "      <td>74.788650</td>\n",
       "    </tr>\n",
       "    <tr>\n",
       "      <th>103082</th>\n",
       "      <td>2023-10-02 00:10:12.154450944</td>\n",
       "      <td>27968.28</td>\n",
       "      <td>27970.24</td>\n",
       "      <td>0.158101</td>\n",
       "      <td>0.020</td>\n",
       "      <td>27968.27</td>\n",
       "      <td>27970.25</td>\n",
       "      <td>0.171501</td>\n",
       "      <td>0.053564</td>\n",
       "      <td>27968.26</td>\n",
       "      <td>...</td>\n",
       "      <td>0</td>\n",
       "      <td>1</td>\n",
       "      <td>0</td>\n",
       "      <td>1</td>\n",
       "      <td>0</td>\n",
       "      <td>1</td>\n",
       "      <td>0</td>\n",
       "      <td>0.775408</td>\n",
       "      <td>27968.500100</td>\n",
       "      <td>74.790967</td>\n",
       "    </tr>\n",
       "    <tr>\n",
       "      <th>103083</th>\n",
       "      <td>2023-10-02 00:10:12.158212864</td>\n",
       "      <td>27968.28</td>\n",
       "      <td>27970.24</td>\n",
       "      <td>0.158101</td>\n",
       "      <td>0.020</td>\n",
       "      <td>27968.27</td>\n",
       "      <td>27970.25</td>\n",
       "      <td>0.171501</td>\n",
       "      <td>0.053564</td>\n",
       "      <td>27968.26</td>\n",
       "      <td>...</td>\n",
       "      <td>0</td>\n",
       "      <td>1</td>\n",
       "      <td>0</td>\n",
       "      <td>1</td>\n",
       "      <td>0</td>\n",
       "      <td>1</td>\n",
       "      <td>0</td>\n",
       "      <td>0.775408</td>\n",
       "      <td>27968.500100</td>\n",
       "      <td>74.790958</td>\n",
       "    </tr>\n",
       "    <tr>\n",
       "      <th>103084</th>\n",
       "      <td>2023-10-02 00:10:12.158674944</td>\n",
       "      <td>27968.28</td>\n",
       "      <td>27970.24</td>\n",
       "      <td>0.158101</td>\n",
       "      <td>0.020</td>\n",
       "      <td>27968.27</td>\n",
       "      <td>27970.25</td>\n",
       "      <td>0.171501</td>\n",
       "      <td>0.053564</td>\n",
       "      <td>27968.26</td>\n",
       "      <td>...</td>\n",
       "      <td>0</td>\n",
       "      <td>1</td>\n",
       "      <td>0</td>\n",
       "      <td>1</td>\n",
       "      <td>0</td>\n",
       "      <td>1</td>\n",
       "      <td>0</td>\n",
       "      <td>0.775408</td>\n",
       "      <td>27968.500100</td>\n",
       "      <td>74.790948</td>\n",
       "    </tr>\n",
       "    <tr>\n",
       "      <th>103085</th>\n",
       "      <td>2023-10-02 00:10:12.158679040</td>\n",
       "      <td>27968.28</td>\n",
       "      <td>27970.24</td>\n",
       "      <td>0.158101</td>\n",
       "      <td>0.020</td>\n",
       "      <td>27968.27</td>\n",
       "      <td>27970.25</td>\n",
       "      <td>0.171501</td>\n",
       "      <td>0.053564</td>\n",
       "      <td>27967.98</td>\n",
       "      <td>...</td>\n",
       "      <td>0</td>\n",
       "      <td>0</td>\n",
       "      <td>0</td>\n",
       "      <td>0</td>\n",
       "      <td>0</td>\n",
       "      <td>0</td>\n",
       "      <td>0</td>\n",
       "      <td>0.775408</td>\n",
       "      <td>27968.500100</td>\n",
       "      <td>74.790937</td>\n",
       "    </tr>\n",
       "  </tbody>\n",
       "</table>\n",
       "<p>102087 rows × 34 columns</p>\n",
       "</div>"
      ],
      "text/plain": [
       "                            timestamp  bid_prices_0  ask_prices_0  \\\n",
       "999     2023-10-02 00:00:06.051655936      27993.64      27996.08   \n",
       "1000    2023-10-02 00:00:06.051817984      27993.64      27996.08   \n",
       "1001    2023-10-02 00:00:06.051911168      27993.64      27996.08   \n",
       "1002    2023-10-02 00:00:06.051913984      27993.41      27996.08   \n",
       "1003    2023-10-02 00:00:06.052875008      27993.41      27996.08   \n",
       "...                               ...           ...           ...   \n",
       "103081  2023-10-02 00:10:12.153671936      27968.27      27970.24   \n",
       "103082  2023-10-02 00:10:12.154450944      27968.28      27970.24   \n",
       "103083  2023-10-02 00:10:12.158212864      27968.28      27970.24   \n",
       "103084  2023-10-02 00:10:12.158674944      27968.28      27970.24   \n",
       "103085  2023-10-02 00:10:12.158679040      27968.28      27970.24   \n",
       "\n",
       "        bid_quantity_0  ask_quantity_0  bid_prices_1  ask_prices_1  \\\n",
       "999           0.072713           0.188      27993.41      27996.38   \n",
       "1000          0.072713           0.188      27993.41      27996.99   \n",
       "1001          0.072713           0.188      27993.41      27996.99   \n",
       "1002          0.150000           0.188      27993.40      27996.99   \n",
       "1003          0.150000           0.188      27993.40      27996.99   \n",
       "...                ...             ...           ...           ...   \n",
       "103081        0.171501           0.020      27968.26      27970.25   \n",
       "103082        0.158101           0.020      27968.27      27970.25   \n",
       "103083        0.158101           0.020      27968.27      27970.25   \n",
       "103084        0.158101           0.020      27968.27      27970.25   \n",
       "103085        0.158101           0.020      27968.27      27970.25   \n",
       "\n",
       "        bid_quantity_1  ask_quantity_1  bid_prices_2  ...  time_ask_prices_1  \\\n",
       "999           0.150000        0.060000      27993.40  ...                  0   \n",
       "1000          0.150000        0.177791      27993.40  ...                  0   \n",
       "1001          0.150000        0.177791      27993.40  ...                  0   \n",
       "1002          0.250000        0.177791      27992.96  ...                  0   \n",
       "1003          0.250000        0.177791      27992.96  ...                  0   \n",
       "...                ...             ...           ...  ...                ...   \n",
       "103081        0.020000        0.053564      27967.98  ...                  0   \n",
       "103082        0.171501        0.053564      27968.26  ...                  0   \n",
       "103083        0.171501        0.053564      27968.26  ...                  0   \n",
       "103084        0.171501        0.053564      27968.26  ...                  0   \n",
       "103085        0.171501        0.053564      27967.98  ...                  0   \n",
       "\n",
       "        time_bid_prices_2  time_ask_prices_2  time_bid_prices_3  \\\n",
       "999                     1                  0                  1   \n",
       "1000                    1                  0                  1   \n",
       "1001                    1                  0                  1   \n",
       "1002                    1                  0                  1   \n",
       "1003                    1                  0                  1   \n",
       "...                   ...                ...                ...   \n",
       "103081                  1                  0                  1   \n",
       "103082                  1                  0                  1   \n",
       "103083                  1                  0                  1   \n",
       "103084                  1                  0                  1   \n",
       "103085                  0                  0                  0   \n",
       "\n",
       "        time_ask_prices_3  time_bid_prices_4  time_ask_prices_4  \\\n",
       "999                     0                  1                  0   \n",
       "1000                    0                  1                  0   \n",
       "1001                    0                  1                  0   \n",
       "1002                    0                  1                  0   \n",
       "1003                    0                  1                  0   \n",
       "...                   ...                ...                ...   \n",
       "103081                  0                  1                  0   \n",
       "103082                  0                  1                  0   \n",
       "103083                  0                  1                  0   \n",
       "103084                  0                  1                  0   \n",
       "103085                  0                  0                  0   \n",
       "\n",
       "        vol_imbalance    microprice  daily_volatility  \n",
       "999         -0.442198  27995.399481        494.105453  \n",
       "1000        -0.442198  27995.399481        494.105453  \n",
       "1001        -0.442198  27995.399481        494.105386  \n",
       "1002        -0.112426  27994.895089        494.065679  \n",
       "1003        -0.112426  27994.895089        494.065680  \n",
       "...               ...           ...               ...  \n",
       "103081       0.791124  27968.475743         74.788650  \n",
       "103082       0.775408  27968.500100         74.790967  \n",
       "103083       0.775408  27968.500100         74.790958  \n",
       "103084       0.775408  27968.500100         74.790948  \n",
       "103085       0.775408  27968.500100         74.790937  \n",
       "\n",
       "[102087 rows x 34 columns]"
      ]
     },
     "execution_count": 2,
     "metadata": {},
     "output_type": "execute_result"
    }
   ],
   "source": [
    "df = pd.read_csv('prepared_LOB_trunc_data.csv',\n",
    "                 index_col=0) # if this file is read, you could start from cell number 17\n",
    "df"
   ]
  },
  {
   "cell_type": "code",
   "execution_count": 3,
   "id": "93636ab5",
   "metadata": {
    "id": "93636ab5"
   },
   "outputs": [],
   "source": [
    "def finder_of_fulfilment(df, column):\n",
    "    time, indicator = [], []\n",
    "    if 'bid' in column:\n",
    "      repr_column = 'ask_prices_0'\n",
    "    else:\n",
    "      repr_column = 'bid_prices_0'\n",
    "    for i in range(len(df)):\n",
    "        num = df[column].iloc[i]\n",
    "        arr = df[df[repr_column]>num][repr_column].index\n",
    "        time.append(pd.to_datetime(df['timestamp'].iloc[arr[arr>i][0]]) - pd.to_datetime(df['timestamp'].iloc[i])\n",
    "                    if len(arr[arr>i]) else\n",
    "                    pd.to_datetime('2023-10-03 00:00:00') - pd.to_datetime(df['timestamp'].iloc[i]))\n",
    "    return time"
   ]
  },
  {
   "cell_type": "code",
   "execution_count": 4,
   "id": "cd9deca9",
   "metadata": {},
   "outputs": [],
   "source": [
    "columns = ['bid_prices_0', 'ask_prices_0', 'bid_prices_1','ask_prices_1', 'bid_prices_2', 'ask_prices_2', \n",
    "           'bid_prices_3', 'ask_prices_3', 'bid_prices_4', 'ask_prices_4']"
   ]
  },
  {
   "cell_type": "code",
   "execution_count": null,
   "id": "QqQG4rDMcR07",
   "metadata": {
    "id": "QqQG4rDMcR07"
   },
   "outputs": [],
   "source": [
    "for column in columns:\n",
    "  df['time_'+column] = finder_of_fulfilment(df, column)"
   ]
  },
  {
   "cell_type": "code",
   "execution_count": null,
   "id": "tyVoIFqYNJp0",
   "metadata": {
    "id": "tyVoIFqYNJp0"
   },
   "outputs": [],
   "source": [
    "for column in columns:\n",
    "  df['time_'+column] = round((df['time_'+column]).dt.total_seconds().astype(float),4)"
   ]
  },
  {
   "cell_type": "code",
   "execution_count": null,
   "id": "sxzlnwghe7Vf",
   "metadata": {
    "id": "sxzlnwghe7Vf"
   },
   "outputs": [],
   "source": [
    "def plot_KM_estimator(column):\n",
    "  times = np.sort(df['time_'+column].unique())\n",
    "  S_of_t = []\n",
    "\n",
    "  for time in times:\n",
    "      num_executed = len(df[df['time_'+column]==time])\n",
    "      num_survived = len(df[df['time_'+column]>time])\n",
    "      prob = num_executed/(num_survived+num_executed)\n",
    "      S_of_t.append(1-prob)\n",
    "\n",
    "\n",
    "  S_hat = np.cumprod(S_of_t)\n",
    "  return S_hat, times"
   ]
  },
  {
   "cell_type": "code",
   "execution_count": null,
   "id": "OLmiTRCLgWKa",
   "metadata": {
    "colab": {
     "base_uri": "https://localhost:8080/",
     "height": 718
    },
    "id": "OLmiTRCLgWKa",
    "outputId": "b807e895-218b-4fe9-f5a8-9ea82113d301"
   },
   "outputs": [],
   "source": [
    "fig, (ax1, ax2) = plt.subplots(2, 1, figsize=(10, 8))\n",
    "\n",
    "for column in columns:\n",
    "  KM_est, times = plot_KM_estimator(column)\n",
    "  if 'bid' in column:\n",
    "    ax1.plot(times[:len(times)//10], KM_est[:len(times)//10], linewidth=2, label=f\"Level {column.split('_')[-1]}, \n",
    "             {column.split('_')[0]} pegged\")\n",
    "    ax1.set_xlabel('t (sec.)')\n",
    "    ax1.set_ylabel('$\\hat{S}(t)$')\n",
    "    ax1.set_title('Bid Survival Probability Over Time')\n",
    "    ax1.legend()\n",
    "    ax1.grid(True)\n",
    "\n",
    "  else:\n",
    "    ax2.plot(times[:len(times)//10], KM_est[:len(times)//10], linewidth=2, label=f\"Level {column.split('_')[-1]},\n",
    "             {column.split('_')[0]} pegged\")\n",
    "    ax2.set_xlabel('t (sec.)')\n",
    "    ax2.set_ylabel('$\\hat{S}(t)$')\n",
    "    ax2.set_title('Ask Survival Probability Over Time')\n",
    "    ax2.legend()\n",
    "    ax2.grid(True)\n",
    "\n",
    "plt.show()"
   ]
  },
  {
   "cell_type": "code",
   "execution_count": null,
   "id": "1f85fa37",
   "metadata": {
    "colab": {
     "base_uri": "https://localhost:8080/"
    },
    "id": "1f85fa37",
    "outputId": "76c771a7-f6d2-49cd-972b-9893f3753195"
   },
   "outputs": [],
   "source": [
    "#Make some features and drop useless columns\n",
    "pd.options.mode.chained_assignment = None\n",
    "\n",
    "df['vol_imbalance'] = (df['bid_quantity_0'] - df['ask_quantity_0'])/(df['bid_quantity_0'] + df['ask_quantity_0'])\n",
    "df['microprice'] = ((df['bid_prices_0']*df['bid_quantity_0']+df['ask_prices_0']*df['ask_quantity_0'])\n",
    "                    /(df['bid_quantity_0'] + df['ask_quantity_0']))\n",
    "\n",
    "def logReturns(S):\n",
    "    return np.log(S/S.shift(1))\n",
    "\n",
    "def volFromTimeSeriesPerSecond(prices, timeStamps):\n",
    "    if np.size(prices) <= 2:\n",
    "        raise ValueError('We need more prices than 2')\n",
    "\n",
    "    # Convert timestamp strings to datetime\n",
    "    timeStamps = pd.to_datetime(timeStamps)\n",
    "\n",
    "    x = logReturns(prices)[1:]  # the value at the first index is NaN\n",
    "    xBar = np.mean(x)\n",
    "\n",
    "    # Calculate deltaT in seconds\n",
    "    deltaT = (timeStamps - timeStamps.shift(10)).dt.total_seconds()[1:]  # the value at the first index is NaN\n",
    "    N = np.size(x)\n",
    "\n",
    "    return np.sqrt(np.sum((x - xBar) ** 2 / deltaT) / (N - 1))\n",
    "\n",
    "def volFromTimeSeriesPerHour(prices,timeStamps):\n",
    "    return volFromTimeSeriesPerSecond(prices, timeStamps)*np.sqrt(3600.0)\n",
    "\n",
    "def volFromTimeSeriesPerDay(prices,timeStamps):\n",
    "    return volFromTimeSeriesPerSecond(prices, timeStamps)*np.sqrt(3600.0*24)\n",
    "\n",
    "def volFromTimeSeriesPerYear(prices,timeStamps):\n",
    "    return volFromTimeSeriesPerSecond(prices, timeStamps)*np.sqrt(3600.0*24*365.25)\n",
    "\n",
    "\n",
    "print(\"Vol is %.2f%% per second\" % (100.0*volFromTimeSeriesPerSecond(df['microprice'], df['timestamp'])))\n",
    "print(\"Vol is %.2f%% per hour\" % (100.0*volFromTimeSeriesPerHour(df['microprice'], df['timestamp'])))\n",
    "print(\"Vol is %.2f%% per day\" % (100.0*volFromTimeSeriesPerDay(df['microprice'], df['timestamp'])))\n",
    "print(\"Vol is %.2f%% per year\" % (100.0*volFromTimeSeriesPerYear(df['microprice'], df['timestamp'])))"
   ]
  },
  {
   "cell_type": "code",
   "execution_count": null,
   "id": "wX7XS6pRRO6V",
   "metadata": {
    "id": "wX7XS6pRRO6V"
   },
   "outputs": [],
   "source": [
    "def calculate_volatility(prices, timeStamps):\n",
    "    if len(prices) <= 1:\n",
    "        return np.nan  # Not enough data\n",
    "\n",
    "    x = logReturns(prices)\n",
    "    xBar = np.mean(x)\n",
    "    i=10\n",
    "    deltaT = (timeStamps - timeStamps.shift(i)).dt.total_seconds()\n",
    "    N = len(x)\n",
    "\n",
    "    return np.sqrt(np.nansum((x - xBar) ** 2 / deltaT) / (N - 1))\n",
    "\n",
    "# Define a function to calculate rolling volatility\n",
    "def rolling_volatility(df, window_size):\n",
    "    # Convert timestamp strings to datetime\n",
    "    df['timestamp'] = pd.to_datetime(df['timestamp'])\n",
    "\n",
    "    # Apply the rolling window\n",
    "    rolling_vol = df['microprice'].rolling(window=window_size).apply(\n",
    "        lambda x: calculate_volatility(x, df['timestamp']), raw=False\n",
    "    )\n",
    "\n",
    "    return rolling_vol\n",
    "\n",
    "window_size = 1000\n",
    "\n",
    "# Calculate rolling volatility and add it as a new column\n",
    "df['daily_volatility'] = rolling_volatility(df, window_size)"
   ]
  },
  {
   "cell_type": "code",
   "execution_count": null,
   "id": "3be901f2",
   "metadata": {
    "colab": {
     "base_uri": "https://localhost:8080/",
     "height": 564
    },
    "id": "3be901f2",
    "outputId": "d6e8b351-75c0-42b5-93e5-c95d9f41b2be"
   },
   "outputs": [],
   "source": [
    "plt.figure(figsize=(10, 6))\n",
    "\n",
    "df['timestamp'] = pd.to_datetime(df['timestamp'])\n",
    "\n",
    "# Plotting the microprice with a blue line\n",
    "plt.plot(df['timestamp'], df['microprice'], color='blue', linewidth=2, label='Microprice')\n",
    "\n",
    "# Adding labels and title\n",
    "plt.xlabel('Time')\n",
    "plt.ylabel('Microprice')\n",
    "plt.title('Microprice over Time')\n",
    "\n",
    "# Displaying the grid\n",
    "plt.grid(True)"
   ]
  },
  {
   "cell_type": "code",
   "execution_count": null,
   "id": "d4916300",
   "metadata": {
    "colab": {
     "base_uri": "https://localhost:8080/",
     "height": 564
    },
    "id": "d4916300",
    "outputId": "d7a1eb21-ca18-4364-8479-321179c987c3"
   },
   "outputs": [],
   "source": [
    "plt.figure(figsize=(10, 6))\n",
    "\n",
    "# Plotting the microprice with a blue line\n",
    "plt.plot(df['timestamp'], df['vol_imbalance'].rolling(1000).mean(), color='blue',\n",
    "         linewidth=2, label='Rolling Volume Imbalance')\n",
    "\n",
    "# Adding labels and title\n",
    "plt.xlabel('Time')\n",
    "plt.ylabel('Volume Imbalance')\n",
    "plt.title('Rolling Volume Imbalance over Time')\n",
    "\n",
    "# Displaying the grid\n",
    "plt.grid(True)"
   ]
  },
  {
   "cell_type": "code",
   "execution_count": null,
   "id": "W2IOdcadXq3F",
   "metadata": {
    "colab": {
     "base_uri": "https://localhost:8080/",
     "height": 617
    },
    "id": "W2IOdcadXq3F",
    "outputId": "6e1b5c66-e995-49f0-b34a-238c251f9b02"
   },
   "outputs": [],
   "source": [
    "df['daily_volatility'] = df['daily_volatility']*np.sqrt(360000.0*24)*100\n",
    "df"
   ]
  },
  {
   "cell_type": "code",
   "execution_count": null,
   "id": "TzNEh8kVBTD1",
   "metadata": {
    "id": "TzNEh8kVBTD1"
   },
   "outputs": [],
   "source": [
    "threshold=1\n",
    "for column in columns:\n",
    "  df['time_' + column] = df['time_' + column].apply(lambda x: 1 if x < threshold else 0)"
   ]
  },
  {
   "cell_type": "code",
   "execution_count": null,
   "id": "_B_1CtjkVkVc",
   "metadata": {
    "colab": {
     "base_uri": "https://localhost:8080/",
     "height": 350
    },
    "id": "_B_1CtjkVkVc",
    "outputId": "2c4df9dc-42c9-4600-a386-6f27149bfcb2"
   },
   "outputs": [],
   "source": [
    "df.dropna(inplace=True)\n",
    "df.describe()"
   ]
  },
  {
   "cell_type": "code",
   "execution_count": 5,
   "id": "8i5niMrpCIJj",
   "metadata": {
    "id": "8i5niMrpCIJj"
   },
   "outputs": [],
   "source": [
    "df.to_csv('prepared_LOB_trunc_data.csv')"
   ]
  },
  {
   "cell_type": "code",
   "execution_count": 6,
   "id": "268a1854",
   "metadata": {
    "colab": {
     "base_uri": "https://localhost:8080/"
    },
    "id": "268a1854",
    "outputId": "3749454c-265c-433c-8e00-291f1ff5a55c"
   },
   "outputs": [
    {
     "name": "stdout",
     "output_type": "stream",
     "text": [
      "(19917, 1)\n"
     ]
    }
   ],
   "source": [
    "N = 500  # Define the number of previous observations included\n",
    "\n",
    "# Assuming 'columns' is a list of column names and 'column' is a specific column name\n",
    "columns_to_drop = ['time_' + col for col in columns] + ['timestamp']\n",
    "X = df.drop(columns=columns_to_drop).iloc[:len(df)//5]\n",
    "Y = df[['time_' + col for col in columns if 'ask_prices_0' in col]].iloc[N:len(df)//5].values\n",
    "\n",
    "print(Y.shape)"
   ]
  },
  {
   "cell_type": "code",
   "execution_count": 7,
   "id": "7973c179",
   "metadata": {
    "colab": {
     "base_uri": "https://localhost:8080/"
    },
    "id": "7973c179",
    "outputId": "7121d166-e720-4a17-aa50-e04dbf722de6"
   },
   "outputs": [
    {
     "name": "stderr",
     "output_type": "stream",
     "text": [
      "2023-12-30 06:30:45.738706: I metal_plugin/src/device/metal_device.cc:1154] Metal device set to: Apple M1 Pro\n",
      "2023-12-30 06:30:45.738811: I metal_plugin/src/device/metal_device.cc:296] systemMemory: 16.00 GB\n",
      "2023-12-30 06:30:45.738854: I metal_plugin/src/device/metal_device.cc:313] maxCacheSize: 5.33 GB\n",
      "2023-12-30 06:30:45.739048: I tensorflow/core/common_runtime/pluggable_device/pluggable_device_factory.cc:306] Could not identify NUMA node of platform GPU ID 0, defaulting to 0. Your kernel may not have been built with NUMA support.\n",
      "2023-12-30 06:30:45.739400: I tensorflow/core/common_runtime/pluggable_device/pluggable_device_factory.cc:272] Created TensorFlow device (/job:localhost/replica:0/task:0/device:GPU:0 with 0 MB memory) -> physical PluggableDevice (device: 0, name: METAL, pci bus id: <undefined>)\n"
     ]
    },
    {
     "data": {
      "text/plain": [
       "TensorShape([19917, 501, 23])"
      ]
     },
     "execution_count": 7,
     "metadata": {},
     "output_type": "execute_result"
    }
   ],
   "source": [
    "tensor_slices = []\n",
    "\n",
    "for i in range(N, len(X)):\n",
    "    start_index = max(0, i - N)\n",
    "    slice_df = X.iloc[start_index:i+1]\n",
    "\n",
    "    tensor_slice = tf.convert_to_tensor(slice_df, dtype=tf.float32)\n",
    "    tensor_slices.append(tensor_slice)\n",
    "\n",
    "X = tf.stack(tensor_slices)\n",
    "\n",
    "X.shape"
   ]
  },
  {
   "cell_type": "code",
   "execution_count": 8,
   "id": "48b742c5",
   "metadata": {},
   "outputs": [
    {
     "data": {
      "text/html": [
       "<div>\n",
       "<style scoped>\n",
       "    .dataframe tbody tr th:only-of-type {\n",
       "        vertical-align: middle;\n",
       "    }\n",
       "\n",
       "    .dataframe tbody tr th {\n",
       "        vertical-align: top;\n",
       "    }\n",
       "\n",
       "    .dataframe thead th {\n",
       "        text-align: right;\n",
       "    }\n",
       "</style>\n",
       "<table border=\"1\" class=\"dataframe\">\n",
       "  <thead>\n",
       "    <tr style=\"text-align: right;\">\n",
       "      <th></th>\n",
       "      <th>time_ask_prices_0</th>\n",
       "      <th>time_ask_prices_1</th>\n",
       "      <th>time_ask_prices_2</th>\n",
       "      <th>time_ask_prices_3</th>\n",
       "      <th>time_ask_prices_4</th>\n",
       "    </tr>\n",
       "  </thead>\n",
       "  <tbody>\n",
       "    <tr>\n",
       "      <th>count</th>\n",
       "      <td>19917.000000</td>\n",
       "      <td>19917.000000</td>\n",
       "      <td>19917.000000</td>\n",
       "      <td>19917.000000</td>\n",
       "      <td>19917.000000</td>\n",
       "    </tr>\n",
       "    <tr>\n",
       "      <th>mean</th>\n",
       "      <td>0.337501</td>\n",
       "      <td>0.281920</td>\n",
       "      <td>0.225285</td>\n",
       "      <td>0.179897</td>\n",
       "      <td>0.146207</td>\n",
       "    </tr>\n",
       "    <tr>\n",
       "      <th>std</th>\n",
       "      <td>0.472869</td>\n",
       "      <td>0.449946</td>\n",
       "      <td>0.417780</td>\n",
       "      <td>0.384111</td>\n",
       "      <td>0.353322</td>\n",
       "    </tr>\n",
       "    <tr>\n",
       "      <th>min</th>\n",
       "      <td>0.000000</td>\n",
       "      <td>0.000000</td>\n",
       "      <td>0.000000</td>\n",
       "      <td>0.000000</td>\n",
       "      <td>0.000000</td>\n",
       "    </tr>\n",
       "    <tr>\n",
       "      <th>25%</th>\n",
       "      <td>0.000000</td>\n",
       "      <td>0.000000</td>\n",
       "      <td>0.000000</td>\n",
       "      <td>0.000000</td>\n",
       "      <td>0.000000</td>\n",
       "    </tr>\n",
       "    <tr>\n",
       "      <th>50%</th>\n",
       "      <td>0.000000</td>\n",
       "      <td>0.000000</td>\n",
       "      <td>0.000000</td>\n",
       "      <td>0.000000</td>\n",
       "      <td>0.000000</td>\n",
       "    </tr>\n",
       "    <tr>\n",
       "      <th>75%</th>\n",
       "      <td>1.000000</td>\n",
       "      <td>1.000000</td>\n",
       "      <td>0.000000</td>\n",
       "      <td>0.000000</td>\n",
       "      <td>0.000000</td>\n",
       "    </tr>\n",
       "    <tr>\n",
       "      <th>max</th>\n",
       "      <td>1.000000</td>\n",
       "      <td>1.000000</td>\n",
       "      <td>1.000000</td>\n",
       "      <td>1.000000</td>\n",
       "      <td>1.000000</td>\n",
       "    </tr>\n",
       "  </tbody>\n",
       "</table>\n",
       "</div>"
      ],
      "text/plain": [
       "       time_ask_prices_0  time_ask_prices_1  time_ask_prices_2  \\\n",
       "count       19917.000000       19917.000000       19917.000000   \n",
       "mean            0.337501           0.281920           0.225285   \n",
       "std             0.472869           0.449946           0.417780   \n",
       "min             0.000000           0.000000           0.000000   \n",
       "25%             0.000000           0.000000           0.000000   \n",
       "50%             0.000000           0.000000           0.000000   \n",
       "75%             1.000000           1.000000           0.000000   \n",
       "max             1.000000           1.000000           1.000000   \n",
       "\n",
       "       time_ask_prices_3  time_ask_prices_4  \n",
       "count       19917.000000       19917.000000  \n",
       "mean            0.179897           0.146207  \n",
       "std             0.384111           0.353322  \n",
       "min             0.000000           0.000000  \n",
       "25%             0.000000           0.000000  \n",
       "50%             0.000000           0.000000  \n",
       "75%             0.000000           0.000000  \n",
       "max             1.000000           1.000000  "
      ]
     },
     "execution_count": 8,
     "metadata": {},
     "output_type": "execute_result"
    },
    {
     "data": {
      "image/png": "[encoded data removed]",
      "text/plain": [
       "<Figure size 640x480 with 1 Axes>"
      ]
     },
     "metadata": {},
     "output_type": "display_data"
    }
   ],
   "source": [
    "df[['time_' + col for col in columns if 'ask' in col]].iloc[N:len(df)//5].plot()\n",
    "df[['time_' + col for col in columns if 'ask' in col]].iloc[N:len(df)//5].describe()"
   ]
  },
  {
   "cell_type": "code",
   "execution_count": 9,
   "id": "3ae7218c",
   "metadata": {
    "colab": {
     "base_uri": "https://localhost:8080/"
    },
    "id": "3ae7218c",
    "outputId": "5df5a463-b621-4182-8625-c8f850c64768"
   },
   "outputs": [
    {
     "name": "stdout",
     "output_type": "stream",
     "text": [
      "X shape : (19917, 501, 23)\n",
      "Y shape : 19917\n"
     ]
    }
   ],
   "source": [
    "print('X shape :', X.shape)\n",
    "print('Y shape :',Y.shape[0])"
   ]
  },
  {
   "cell_type": "code",
   "execution_count": 10,
   "id": "6f1cc33c",
   "metadata": {},
   "outputs": [],
   "source": [
    "X_np = X.numpy()\n",
    "\n",
    "# Now use train_test_split\n",
    "X_train, X_test, Y_train, Y_test = train_test_split(X_np, Y, test_size=0.2, shuffle=False)"
   ]
  },
  {
   "cell_type": "code",
   "execution_count": 11,
   "id": "dd02176e",
   "metadata": {},
   "outputs": [
    {
     "data": {
      "text/plain": [
       "{0: 0.7651267767960046, 1: 1.4429451186379278}"
      ]
     },
     "execution_count": 11,
     "metadata": {},
     "output_type": "execute_result"
    }
   ],
   "source": [
    "class_weights = class_weight.compute_class_weight(\n",
    "    'balanced',\n",
    "    classes=np.unique(Y_train.ravel()),  # Ensure Y_train is 1-dimensional\n",
    "    y=Y_train.ravel()                    # Ensure Y_train is 1-dimensional\n",
    ")\n",
    "class_weights_dict = dict(enumerate(class_weights))\n",
    "class_weights_dict"
   ]
  },
  {
   "cell_type": "code",
   "execution_count": 12,
   "id": "9129cb00",
   "metadata": {},
   "outputs": [
    {
     "data": {
      "text/plain": [
       "0.6343999838304114"
      ]
     },
     "execution_count": 12,
     "metadata": {},
     "output_type": "execute_result"
    }
   ],
   "source": [
    "bias_initializer =  -np.log(np.count_nonzero(Y_train)/(len(Y_train)-np.count_nonzero(Y_train)))\n",
    "bias_initializer"
   ]
  },
  {
   "cell_type": "code",
   "execution_count": 14,
   "id": "cd75c037",
   "metadata": {},
   "outputs": [],
   "source": [
    "class Model(Layer):\n",
    "    def __init__(self, filters, kernel_size_Q, kernel_size_K, kernel_size_V, units, dilation_rate, num_heads):\n",
    "        super(Model, self).__init__()\n",
    "        self.units = units\n",
    "        self.dilation_rate = dilation_rate\n",
    "\n",
    "        # Dilated Convolution layers\n",
    "        self.dilated_conv_Q = Conv1D(filters=filters, kernel_size=kernel_size_Q,\n",
    "                                     dilation_rate=self.dilation_rate, padding='causal')\n",
    "        self.dilated_conv_K = Conv1D(filters=filters, kernel_size=kernel_size_K,\n",
    "                                     dilation_rate=self.dilation_rate, padding='causal')\n",
    "        self.dilated_conv_V = Conv1D(filters=filters, kernel_size=kernel_size_V,\n",
    "                                     dilation_rate=self.dilation_rate, padding='causal')\n",
    "        \n",
    "        # Max Pooling layer\n",
    "        self.pooling = MaxPooling1D(pool_size=2, padding='valid')\n",
    "\n",
    "        # Multi-Head Attention layer\n",
    "        self.multi_head_attention = MultiHeadAttention(num_heads=num_heads, key_dim=units)\n",
    "\n",
    "        # Layers after Multi-Head Attention\n",
    "        self.flatten = Flatten()\n",
    "        self.dense_layers = [Dense(units=32, activation='tanh') for _ in range(10)]\n",
    "        self.attention_layers = [SeqSelfAttention(units=units, attention_activation='tanh',\n",
    "                                                  attention_type=SeqSelfAttention.ATTENTION_TYPE_MUL) \n",
    "                                 for _ in range(2)]\n",
    "\n",
    "    def call(self, x):\n",
    "        Q = self.dilated_conv_Q(x)\n",
    "        Q = self.pooling(Q)\n",
    "        K = self.dilated_conv_K(x)\n",
    "        K = self.pooling(K)\n",
    "        V = self.dilated_conv_V(x)\n",
    "        V = self.pooling(V)\n",
    "\n",
    "        # Multi-Head Attention\n",
    "        x = self.multi_head_attention(Q, K, V)\n",
    "\n",
    "        # Flatten and Reshape\n",
    "        x = self.flatten(x)\n",
    "        \n",
    "        x = tf.expand_dims(x, -1)\n",
    "\n",
    "        for i, layer in enumerate(self.dense_layers):\n",
    "            x = layer(x)\n",
    "            if (i + 1) % 5 == 0:\n",
    "                x = self.attention_layers[i // 5](x)\n",
    "\n",
    "        return x"
   ]
  },
  {
   "cell_type": "code",
   "execution_count": 15,
   "id": "e8f4be66",
   "metadata": {},
   "outputs": [],
   "source": [
    "def create_model(input_shape, filters, num_heads, dilation_rate, kernel_size_Q, kernel_size_K, kernel_size_V, units):\n",
    "    return Model(filters=filters, kernel_size_Q=kernel_size_Q, kernel_size_K=kernel_size_K, \n",
    "                 kernel_size_V=kernel_size_V, dilation_rate=dilation_rate, num_heads=num_heads, units=units)"
   ]
  },
  {
   "cell_type": "code",
   "execution_count": 16,
   "id": "3613de5f",
   "metadata": {},
   "outputs": [],
   "source": [
    "def create_full_model(input_shape, filters, num_heads, d_model, units, kernel_size_Q, kernel_size_K, \n",
    "                      kernel_size_V):\n",
    "    encoder_inputs = layers.Input(shape=input_shape)\n",
    "    model = create_model(input_shape, filters, num_heads, dilation_rate=1, \n",
    "                         kernel_size_Q=kernel_size_Q, kernel_size_K=kernel_size_K, \n",
    "                         kernel_size_V=kernel_size_V, units=d_model)\n",
    "    translob_output = model(encoder_inputs)\n",
    "\n",
    "    # Adding Flatten layer\n",
    "    flat_output = tf.keras.layers.Flatten()(translob_output)\n",
    "\n",
    "    # Final Dense layer for binary classification\n",
    "    output = tf.keras.layers.Dense(1, activation='sigmoid')(flat_output)\n",
    "\n",
    "    # Create the full model\n",
    "    full_model = tf.keras.models.Model(inputs=encoder_inputs, outputs=output)\n",
    "    return full_model"
   ]
  },
  {
   "cell_type": "code",
   "execution_count": 17,
   "id": "aec13468",
   "metadata": {},
   "outputs": [
    {
     "name": "stdout",
     "output_type": "stream",
     "text": [
      "(15933, 501, 23) (15933, 1)\n"
     ]
    }
   ],
   "source": [
    "print(X_train.shape, Y_train.shape)"
   ]
  },
  {
   "cell_type": "code",
   "execution_count": 18,
   "id": "4b3f844e",
   "metadata": {},
   "outputs": [],
   "source": [
    "# Define model parameters\n",
    "input_shape = (N+1, 23)\n",
    "output_shape = 1\n",
    "filters = 2\n",
    "units = 4\n",
    "kernel_size_Q, kernel_size_K, kernel_size_V = 2, 3, 4\n",
    "num_heads = 3\n",
    "d_model = 2\n",
    "batch = 16"
   ]
  },
  {
   "cell_type": "code",
   "execution_count": null,
   "id": "bdf8a504",
   "metadata": {
    "colab": {
     "base_uri": "https://localhost:8080/"
    },
    "id": "bdf8a504",
    "outputId": "db571df1-6a9a-4101-9773-56cfab43152a",
    "scrolled": true
   },
   "outputs": [
    {
     "name": "stdout",
     "output_type": "stream",
     "text": [
      "Epoch 1/100\n"
     ]
    },
    {
     "name": "stderr",
     "output_type": "stream",
     "text": [
      "2023-12-30 06:31:49.611449: I tensorflow/core/grappler/optimizers/custom_graph_optimizer_registry.cc:117] Plugin optimizer for device_type GPU is enabled.\n"
     ]
    },
    {
     "name": "stdout",
     "output_type": "stream",
     "text": [
      "530/996 [==============>...............] - ETA: 31s - loss: 0.6934 - accuracy: 0.0000e+00 - precision: 0.3422 - recall: 0.6456 - auc: 0.5000"
     ]
    }
   ],
   "source": [
    "# Create the model\n",
    "model = create_full_model(input_shape, filters, num_heads, d_model, units, \n",
    "                          kernel_size_Q, kernel_size_K, kernel_size_V)\n",
    "model.compile(optimizer=tf.keras.optimizers.legacy.Adam(learning_rate=10**(-6)),\n",
    "              loss='binary_crossentropy',\n",
    "              metrics=[Accuracy(name='accuracy'),\n",
    "                       Precision(name='precision'),\n",
    "                       Recall(name='recall'),\n",
    "                       AUC(name='auc')])\n",
    "\n",
    "# Train the model\n",
    "callback = tf.keras.callbacks.EarlyStopping(monitor='accuracy', patience=5)\n",
    "model.fit(x=X_train, y=Y_train, batch_size=batch, epochs=100, callbacks=[callback],class_weight=class_weights_dict)"
   ]
  },
  {
   "cell_type": "code",
   "execution_count": null,
   "id": "81529074",
   "metadata": {
    "id": "81529074"
   },
   "outputs": [],
   "source": [
    "Y_pred = model.predict(X_test)\n",
    "\n",
    "plt.plot(Y_pred, label='pred')\n",
    "plt.plot(Y_test, label='test')\n",
    "plt.legend()"
   ]
  },
  {
   "cell_type": "markdown",
   "id": "0IX9SWmSgkGh",
   "metadata": {
    "id": "0IX9SWmSgkGh"
   },
   "source": [
    "# Training Visualization"
   ]
  },
  {
   "cell_type": "code",
   "execution_count": null,
   "id": "rtqzc0D4E4LH",
   "metadata": {
    "id": "rtqzc0D4E4LH"
   },
   "outputs": [],
   "source": [
    "optimizer = tf.keras.optimizers.Adam(learning_rate=10**(-4))\n",
    "loss_fn = tf.keras.losses.BinaryCrossentropy()\n",
    "\n",
    "@tf.function\n",
    "def train_step(model, x, y):\n",
    "    with tf.GradientTape() as tape:\n",
    "        predictions = model(x, training=True)\n",
    "        loss = loss_fn(y, predictions)\n",
    "    gradients = tape.gradient(loss, model.trainable_variables)\n",
    "    optimizer.apply_gradients(zip(gradients, model.trainable_variables))\n",
    "    return loss, gradients\n",
    "\n",
    "def plot_distribution(data, title):\n",
    "    plt.hist(data.flatten(), bins=50)\n",
    "    plt.title(title)\n",
    "    plt.show()\n",
    "\n",
    "# Assuming X and Y are your data and labels\n",
    "for epoch in range(10):\n",
    "    for step in range(0, len(X_train), batch):\n",
    "        x_batch = X_train[step:step + batch]\n",
    "        y_batch = Y_train[step:step + batch]\n",
    "\n",
    "        loss, gradients = train_step(model, x_batch, y_batch)\n",
    "\n",
    "        # Every N steps, visualize weights, activations, and gradients\n",
    "        if step % 100 == 0:\n",
    "            # Visualize weights and gradients\n",
    "            for var, grad in zip(model.trainable_variables, gradients):\n",
    "                plot_distribution(var.numpy(), f'Weights of {var.name}')\n",
    "                plot_distribution(grad.numpy(), f'Gradients of {var.name}')\n",
    "\n",
    "            # Visualize activations\n",
    "            intermediate_model = tf.keras.Model(inputs=model.input, outputs=[layer.output for \n",
    "                                                                             layer in model.layers])\n",
    "            activations = intermediate_model.predict(x_batch)\n",
    "            for i, activation in enumerate(activations):\n",
    "                plot_distribution(activation, f'Activation of layer {i+1}')"
   ]
  },
  {
   "cell_type": "code",
   "execution_count": null,
   "id": "biUDVozSdhVw",
   "metadata": {
    "id": "biUDVozSdhVw",
    "scrolled": true
   },
   "outputs": [],
   "source": [
    "# Optuna objective function\n",
    "def objective(trial):\n",
    "    # Suggest values for the hyperparameters\n",
    "    num_heads = trial.suggest_categorical('num_heads', [2, 4, 8, 16])\n",
    "    filters = trial.suggest_categorical('filters', [2, 4, 8, 16])\n",
    "    units = trial.suggest_categorical('units', [1, 4, 8, 16, 32])\n",
    "    kernel_size_Q = trial.suggest_categorical('kernel_size_Q', [2, 4, 8, 16])\n",
    "    kernel_size_K = trial.suggest_categorical('kernel_size_K', [2, 4, 8, 16])\n",
    "    kernel_size_V = trial.suggest_categorical('kernel_size_V', [2, 4, 8, 16])\n",
    "    dilation_rate = trial.suggest_categorical('dilation_rate', [1, 2, 3, 4])\n",
    "    d_model = trial.suggest_categorical('d_model', [1, 2, 4, 8, 32])\n",
    "    batch = trial.suggest_categorical('batch', [4, 8, 16, 32])\n",
    "    # Suggest learning rate\n",
    "\n",
    "    # Create the model using the suggested values\n",
    "    model = create_full_model(input_shape, filters, num_heads, d_model, units,\n",
    "                              kernel_size_Q, kernel_size_K, kernel_size_V)\n",
    "\n",
    "    model.compile(optimizer=RMSprop(learning_rate=0.001), loss='binary_crossentropy',\n",
    "              metrics=[Accuracy(name='accuracy'),\n",
    "                       Precision(name='precision'),\n",
    "                       Recall(name='recall'),\n",
    "                       AUC(name='auc')])\n",
    "\n",
    "    train_ds = tf.data.Dataset.from_tensor_slices((X_train, Y_train)).batch(batch_size = batch)\n",
    "\n",
    "    callback = tf.keras.callbacks.EarlyStopping(monitor='auc', patience=3)\n",
    "    history = model.fit(train_ds, epochs=10, callbacks=[callback], verbose=1)\n",
    "\n",
    "    val_loss = sum(history.history['auc'][-6:-1])/5\n",
    "    return val_loss\n",
    "\n",
    "# Optuna study\n",
    "study = optuna.create_study(direction='maximize')  # 'minimize' if lower is better, 'maximize' otherwise\n",
    "study.optimize(objective, n_trials=20)  # Adjust the number of trials\n",
    "\n",
    "# Print the optimal hyperparameters\n",
    "print('Best trial:')\n",
    "trial = study.best_trial\n",
    "print(f'  Value: {trial.value}')\n",
    "print('  Params: ')\n",
    "for key, value in trial.params.items():\n",
    "    print(f'    {key}: {value}')"
   ]
  },
  {
   "cell_type": "code",
   "execution_count": null,
   "id": "wgPEvxifbRzO",
   "metadata": {
    "id": "wgPEvxifbRzO",
    "scrolled": true
   },
   "outputs": [],
   "source": [
    "# Define model parameters\n",
    "input_shape = (N+1, 23)\n",
    "output_shape = Y.shape[1]\n",
    "num_heads = trial.params['num_heads']\n",
    "filters = trial.params['filters']\n",
    "units = trial.params['units']\n",
    "kernel_size_Q = trial.params['kernel_size_Q']\n",
    "kernel_size_K = trial.params['kernel_size_K']\n",
    "kernel_size_V = trial.params['kernel_size_V']\n",
    "batch = trial.params['batch']\n",
    "learning_rate = trial.params['learning_rate']\n",
    "# Create the model\n",
    "model = create_full_model(input_shape, filters, num_heads, d_model, output_shape, units,\n",
    "                              kernel_size_Q, kernel_size_K, kernel_size_V)\n",
    "# Create TensorFlow dataset\n",
    "train_ds = tf.data.Dataset.from_tensor_slices((X_train, Y_train)).batch(batch_size=batch)\n",
    "\n",
    "model.compile(optimizer=tf.keras.optimizers.legacy.Adam(learning_rate=learning_rate),\n",
    "              loss='binary_crossentropy')\n",
    "\n",
    "# Train the model\n",
    "callback = tf.keras.callbacks.EarlyStopping(monitor='loss', patience=15)\n",
    "model.fit(train_ds, epochs=100, callbacks=[callback])"
   ]
  },
  {
   "cell_type": "code",
   "execution_count": null,
   "id": "Fo-pZrxIdoAa",
   "metadata": {
    "id": "Fo-pZrxIdoAa"
   },
   "outputs": [],
   "source": [
    "Y_pred = model.predict(X_test)"
   ]
  },
  {
   "cell_type": "code",
   "execution_count": null,
   "id": "r-WXXEZlhRlI",
   "metadata": {
    "id": "r-WXXEZlhRlI"
   },
   "outputs": [],
   "source": [
    "plt.plot(Y_pred, label='pred')\n",
    "#plt.plot(Y_test, label='actual')"
   ]
  },
  {
   "cell_type": "code",
   "execution_count": null,
   "id": "b25a2300",
   "metadata": {},
   "outputs": [],
   "source": [
    "from tensorflow.keras.models import Sequential\n",
    "from tensorflow.keras.layers import Dense, Flatten"
   ]
  },
  {
   "cell_type": "code",
   "execution_count": null,
   "id": "24d53aa9",
   "metadata": {},
   "outputs": [],
   "source": [
    "# Create the model\n",
    "toy_model = Sequential()\n",
    "\n",
    "# Add a Flatten layer to reshape the input for Dense layers\n",
    "toy_model.add(Flatten(input_shape=input_shape))\n",
    "\n",
    "# Add the first Dense layer after flattening the input\n",
    "toy_model.add(Dense(64, activation='relu'))\n",
    "\n",
    "# Add 8 more hidden layers\n",
    "for _ in range(8):\n",
    "    toy_model.add(Dense(32, activation='relu'))\n",
    "\n",
    "toy_model.add(SeqSelfAttention(units=1, attention_activation='sigmoid', \n",
    "                               attention_type=SeqSelfAttention.ATTENTION_TYPE_MUL))\n",
    "# Add the output layer with sigmoid activation for binary classification\n",
    "toy_model.add(Dense(1, activation='sigmoid'))\n",
    "\n",
    "# Compile the model\n",
    "toy_model.compile(optimizer='adam',\n",
    "                  loss='binary_crossentropy',\n",
    "                  metrics=[Accuracy(), Precision(), Recall(), AUC()])\n",
    "\n",
    "# Summary of the model\n",
    "toy_model.summary()\n",
    "\n",
    "# Fit the model\n",
    "toy_model.fit(X_train, Y_train, epochs=100, batch_size=16, verbose=1, callbacks=[callback])"
   ]
  },
  {
   "cell_type": "code",
   "execution_count": null,
   "id": "RdPaIZUnzho9",
   "metadata": {
    "id": "RdPaIZUnzho9"
   },
   "outputs": [],
   "source": [
    "explainer = shap.TreeExplainer(toy_model)\n",
    "shap_values = explainer.shap_values(X)\n",
    "shap.summary_plot(shap_values, X)"
   ]
  },
  {
   "cell_type": "code",
   "execution_count": null,
   "id": "fej8wwvNp1a5",
   "metadata": {
    "id": "fej8wwvNp1a5"
   },
   "outputs": [],
   "source": [
    "shap_explanation = shap.Explanation(\n",
    "    values=shap_values,\n",
    "    base_values=explainer.expected_value,\n",
    "    data=X,\n",
    "    feature_names=X.columns,\n",
    "    output_names=[\"Prediction\"]\n",
    ")\n",
    "\n",
    "# Generate the waterfall plot for the first prediction\n",
    "shap.waterfall_plot(shap_explanation[0])"
   ]
  },
  {
   "cell_type": "code",
   "execution_count": null,
   "id": "64db48dc",
   "metadata": {},
   "outputs": [],
   "source": []
  }
 ],
 "metadata": {
  "accelerator": "GPU",
  "colab": {
   "gpuType": "T4",
   "provenance": []
  },
  "kernelspec": {
   "display_name": "Python 3 (ipykernel)",
   "language": "python",
   "name": "python3"
  },
  "language_info": {
   "codemirror_mode": {
    "name": "ipython",
    "version": 3
   },
   "file_extension": ".py",
   "mimetype": "text/x-python",
   "name": "python",
   "nbconvert_exporter": "python",
   "pygments_lexer": "ipython3",
   "version": "3.11.5"
  }
 },
 "nbformat": 4,
 "nbformat_minor": 5
}
