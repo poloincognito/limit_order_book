{
 "cells": [
  {
   "cell_type": "code",
   "execution_count": 1,
   "id": "b8b46c54",
   "metadata": {
    "id": "b8b46c54"
   },
   "outputs": [],
   "source": [
    "import tensorflow as tf\n",
    "import optuna\n",
    "import shap\n",
    "from tensorflow.keras.models import Model\n",
    "import pandas as pd\n",
    "import numpy as np\n",
    "import matplotlib.pyplot as plt\n",
    "from tensorflow.keras import layers, models, backend, constraints, initializers, regularizers\n",
    "from sklearn.preprocessing import StandardScaler\n",
    "from sklearn.utils import class_weight\n",
    "from sklearn.model_selection import train_test_split\n",
    "from keras_self_attention import SeqSelfAttention\n",
    "from tensorflow.keras.metrics import CategoricalAccuracy, Precision, Recall, AUC\n",
    "from tensorflow.keras.optimizers.legacy import RMSprop"
   ]
  },
  {
   "cell_type": "code",
   "execution_count": 2,
   "id": "2cd9ab35",
   "metadata": {
    "id": "2cd9ab35"
   },
   "outputs": [
    {
     "data": {
      "text/html": [
       "<div>\n",
       "<style scoped>\n",
       "    .dataframe tbody tr th:only-of-type {\n",
       "        vertical-align: middle;\n",
       "    }\n",
       "\n",
       "    .dataframe tbody tr th {\n",
       "        vertical-align: top;\n",
       "    }\n",
       "\n",
       "    .dataframe thead th {\n",
       "        text-align: right;\n",
       "    }\n",
       "</style>\n",
       "<table border=\"1\" class=\"dataframe\">\n",
       "  <thead>\n",
       "    <tr style=\"text-align: right;\">\n",
       "      <th></th>\n",
       "      <th>timestamp</th>\n",
       "      <th>bid_prices_0</th>\n",
       "      <th>ask_prices_0</th>\n",
       "      <th>bid_quantity_0</th>\n",
       "      <th>ask_quantity_0</th>\n",
       "      <th>bid_prices_1</th>\n",
       "      <th>ask_prices_1</th>\n",
       "      <th>bid_quantity_1</th>\n",
       "      <th>ask_quantity_1</th>\n",
       "      <th>bid_prices_2</th>\n",
       "      <th>...</th>\n",
       "      <th>time_ask_prices_1</th>\n",
       "      <th>time_bid_prices_2</th>\n",
       "      <th>time_ask_prices_2</th>\n",
       "      <th>time_bid_prices_3</th>\n",
       "      <th>time_ask_prices_3</th>\n",
       "      <th>time_bid_prices_4</th>\n",
       "      <th>time_ask_prices_4</th>\n",
       "      <th>vol_imbalance</th>\n",
       "      <th>microprice</th>\n",
       "      <th>daily_volatility</th>\n",
       "    </tr>\n",
       "  </thead>\n",
       "  <tbody>\n",
       "    <tr>\n",
       "      <th>999</th>\n",
       "      <td>2023-10-02 00:00:06.051655936</td>\n",
       "      <td>27993.64</td>\n",
       "      <td>27996.08</td>\n",
       "      <td>0.072713</td>\n",
       "      <td>0.188</td>\n",
       "      <td>27993.41</td>\n",
       "      <td>27996.38</td>\n",
       "      <td>0.150000</td>\n",
       "      <td>0.060000</td>\n",
       "      <td>27993.40</td>\n",
       "      <td>...</td>\n",
       "      <td>0</td>\n",
       "      <td>1</td>\n",
       "      <td>0</td>\n",
       "      <td>1</td>\n",
       "      <td>0</td>\n",
       "      <td>1</td>\n",
       "      <td>0</td>\n",
       "      <td>-0.442198</td>\n",
       "      <td>27995.399481</td>\n",
       "      <td>494.105453</td>\n",
       "    </tr>\n",
       "    <tr>\n",
       "      <th>1000</th>\n",
       "      <td>2023-10-02 00:00:06.051817984</td>\n",
       "      <td>27993.64</td>\n",
       "      <td>27996.08</td>\n",
       "      <td>0.072713</td>\n",
       "      <td>0.188</td>\n",
       "      <td>27993.41</td>\n",
       "      <td>27996.99</td>\n",
       "      <td>0.150000</td>\n",
       "      <td>0.177791</td>\n",
       "      <td>27993.40</td>\n",
       "      <td>...</td>\n",
       "      <td>0</td>\n",
       "      <td>1</td>\n",
       "      <td>0</td>\n",
       "      <td>1</td>\n",
       "      <td>0</td>\n",
       "      <td>1</td>\n",
       "      <td>0</td>\n",
       "      <td>-0.442198</td>\n",
       "      <td>27995.399481</td>\n",
       "      <td>494.105453</td>\n",
       "    </tr>\n",
       "    <tr>\n",
       "      <th>1001</th>\n",
       "      <td>2023-10-02 00:00:06.051911168</td>\n",
       "      <td>27993.64</td>\n",
       "      <td>27996.08</td>\n",
       "      <td>0.072713</td>\n",
       "      <td>0.188</td>\n",
       "      <td>27993.41</td>\n",
       "      <td>27996.99</td>\n",
       "      <td>0.150000</td>\n",
       "      <td>0.177791</td>\n",
       "      <td>27993.40</td>\n",
       "      <td>...</td>\n",
       "      <td>0</td>\n",
       "      <td>1</td>\n",
       "      <td>0</td>\n",
       "      <td>1</td>\n",
       "      <td>0</td>\n",
       "      <td>1</td>\n",
       "      <td>0</td>\n",
       "      <td>-0.442198</td>\n",
       "      <td>27995.399481</td>\n",
       "      <td>494.105386</td>\n",
       "    </tr>\n",
       "    <tr>\n",
       "      <th>1002</th>\n",
       "      <td>2023-10-02 00:00:06.051913984</td>\n",
       "      <td>27993.41</td>\n",
       "      <td>27996.08</td>\n",
       "      <td>0.150000</td>\n",
       "      <td>0.188</td>\n",
       "      <td>27993.40</td>\n",
       "      <td>27996.99</td>\n",
       "      <td>0.250000</td>\n",
       "      <td>0.177791</td>\n",
       "      <td>27992.96</td>\n",
       "      <td>...</td>\n",
       "      <td>0</td>\n",
       "      <td>1</td>\n",
       "      <td>0</td>\n",
       "      <td>1</td>\n",
       "      <td>0</td>\n",
       "      <td>1</td>\n",
       "      <td>0</td>\n",
       "      <td>-0.112426</td>\n",
       "      <td>27994.895089</td>\n",
       "      <td>494.065679</td>\n",
       "    </tr>\n",
       "    <tr>\n",
       "      <th>1003</th>\n",
       "      <td>2023-10-02 00:00:06.052875008</td>\n",
       "      <td>27993.41</td>\n",
       "      <td>27996.08</td>\n",
       "      <td>0.150000</td>\n",
       "      <td>0.188</td>\n",
       "      <td>27993.40</td>\n",
       "      <td>27996.99</td>\n",
       "      <td>0.250000</td>\n",
       "      <td>0.177791</td>\n",
       "      <td>27992.96</td>\n",
       "      <td>...</td>\n",
       "      <td>0</td>\n",
       "      <td>1</td>\n",
       "      <td>0</td>\n",
       "      <td>1</td>\n",
       "      <td>0</td>\n",
       "      <td>1</td>\n",
       "      <td>0</td>\n",
       "      <td>-0.112426</td>\n",
       "      <td>27994.895089</td>\n",
       "      <td>494.065680</td>\n",
       "    </tr>\n",
       "    <tr>\n",
       "      <th>...</th>\n",
       "      <td>...</td>\n",
       "      <td>...</td>\n",
       "      <td>...</td>\n",
       "      <td>...</td>\n",
       "      <td>...</td>\n",
       "      <td>...</td>\n",
       "      <td>...</td>\n",
       "      <td>...</td>\n",
       "      <td>...</td>\n",
       "      <td>...</td>\n",
       "      <td>...</td>\n",
       "      <td>...</td>\n",
       "      <td>...</td>\n",
       "      <td>...</td>\n",
       "      <td>...</td>\n",
       "      <td>...</td>\n",
       "      <td>...</td>\n",
       "      <td>...</td>\n",
       "      <td>...</td>\n",
       "      <td>...</td>\n",
       "      <td>...</td>\n",
       "    </tr>\n",
       "    <tr>\n",
       "      <th>103081</th>\n",
       "      <td>2023-10-02 00:10:12.153671936</td>\n",
       "      <td>27968.27</td>\n",
       "      <td>27970.24</td>\n",
       "      <td>0.171501</td>\n",
       "      <td>0.020</td>\n",
       "      <td>27968.26</td>\n",
       "      <td>27970.25</td>\n",
       "      <td>0.020000</td>\n",
       "      <td>0.053564</td>\n",
       "      <td>27967.98</td>\n",
       "      <td>...</td>\n",
       "      <td>0</td>\n",
       "      <td>1</td>\n",
       "      <td>0</td>\n",
       "      <td>1</td>\n",
       "      <td>0</td>\n",
       "      <td>1</td>\n",
       "      <td>0</td>\n",
       "      <td>0.791124</td>\n",
       "      <td>27968.475743</td>\n",
       "      <td>74.788650</td>\n",
       "    </tr>\n",
       "    <tr>\n",
       "      <th>103082</th>\n",
       "      <td>2023-10-02 00:10:12.154450944</td>\n",
       "      <td>27968.28</td>\n",
       "      <td>27970.24</td>\n",
       "      <td>0.158101</td>\n",
       "      <td>0.020</td>\n",
       "      <td>27968.27</td>\n",
       "      <td>27970.25</td>\n",
       "      <td>0.171501</td>\n",
       "      <td>0.053564</td>\n",
       "      <td>27968.26</td>\n",
       "      <td>...</td>\n",
       "      <td>0</td>\n",
       "      <td>1</td>\n",
       "      <td>0</td>\n",
       "      <td>1</td>\n",
       "      <td>0</td>\n",
       "      <td>1</td>\n",
       "      <td>0</td>\n",
       "      <td>0.775408</td>\n",
       "      <td>27968.500100</td>\n",
       "      <td>74.790967</td>\n",
       "    </tr>\n",
       "    <tr>\n",
       "      <th>103083</th>\n",
       "      <td>2023-10-02 00:10:12.158212864</td>\n",
       "      <td>27968.28</td>\n",
       "      <td>27970.24</td>\n",
       "      <td>0.158101</td>\n",
       "      <td>0.020</td>\n",
       "      <td>27968.27</td>\n",
       "      <td>27970.25</td>\n",
       "      <td>0.171501</td>\n",
       "      <td>0.053564</td>\n",
       "      <td>27968.26</td>\n",
       "      <td>...</td>\n",
       "      <td>0</td>\n",
       "      <td>1</td>\n",
       "      <td>0</td>\n",
       "      <td>1</td>\n",
       "      <td>0</td>\n",
       "      <td>1</td>\n",
       "      <td>0</td>\n",
       "      <td>0.775408</td>\n",
       "      <td>27968.500100</td>\n",
       "      <td>74.790958</td>\n",
       "    </tr>\n",
       "    <tr>\n",
       "      <th>103084</th>\n",
       "      <td>2023-10-02 00:10:12.158674944</td>\n",
       "      <td>27968.28</td>\n",
       "      <td>27970.24</td>\n",
       "      <td>0.158101</td>\n",
       "      <td>0.020</td>\n",
       "      <td>27968.27</td>\n",
       "      <td>27970.25</td>\n",
       "      <td>0.171501</td>\n",
       "      <td>0.053564</td>\n",
       "      <td>27968.26</td>\n",
       "      <td>...</td>\n",
       "      <td>0</td>\n",
       "      <td>1</td>\n",
       "      <td>0</td>\n",
       "      <td>1</td>\n",
       "      <td>0</td>\n",
       "      <td>1</td>\n",
       "      <td>0</td>\n",
       "      <td>0.775408</td>\n",
       "      <td>27968.500100</td>\n",
       "      <td>74.790948</td>\n",
       "    </tr>\n",
       "    <tr>\n",
       "      <th>103085</th>\n",
       "      <td>2023-10-02 00:10:12.158679040</td>\n",
       "      <td>27968.28</td>\n",
       "      <td>27970.24</td>\n",
       "      <td>0.158101</td>\n",
       "      <td>0.020</td>\n",
       "      <td>27968.27</td>\n",
       "      <td>27970.25</td>\n",
       "      <td>0.171501</td>\n",
       "      <td>0.053564</td>\n",
       "      <td>27967.98</td>\n",
       "      <td>...</td>\n",
       "      <td>0</td>\n",
       "      <td>0</td>\n",
       "      <td>0</td>\n",
       "      <td>0</td>\n",
       "      <td>0</td>\n",
       "      <td>0</td>\n",
       "      <td>0</td>\n",
       "      <td>0.775408</td>\n",
       "      <td>27968.500100</td>\n",
       "      <td>74.790937</td>\n",
       "    </tr>\n",
       "  </tbody>\n",
       "</table>\n",
       "<p>102087 rows × 34 columns</p>\n",
       "</div>"
      ],
      "text/plain": [
       "                            timestamp  bid_prices_0  ask_prices_0  \\\n",
       "999     2023-10-02 00:00:06.051655936      27993.64      27996.08   \n",
       "1000    2023-10-02 00:00:06.051817984      27993.64      27996.08   \n",
       "1001    2023-10-02 00:00:06.051911168      27993.64      27996.08   \n",
       "1002    2023-10-02 00:00:06.051913984      27993.41      27996.08   \n",
       "1003    2023-10-02 00:00:06.052875008      27993.41      27996.08   \n",
       "...                               ...           ...           ...   \n",
       "103081  2023-10-02 00:10:12.153671936      27968.27      27970.24   \n",
       "103082  2023-10-02 00:10:12.154450944      27968.28      27970.24   \n",
       "103083  2023-10-02 00:10:12.158212864      27968.28      27970.24   \n",
       "103084  2023-10-02 00:10:12.158674944      27968.28      27970.24   \n",
       "103085  2023-10-02 00:10:12.158679040      27968.28      27970.24   \n",
       "\n",
       "        bid_quantity_0  ask_quantity_0  bid_prices_1  ask_prices_1  \\\n",
       "999           0.072713           0.188      27993.41      27996.38   \n",
       "1000          0.072713           0.188      27993.41      27996.99   \n",
       "1001          0.072713           0.188      27993.41      27996.99   \n",
       "1002          0.150000           0.188      27993.40      27996.99   \n",
       "1003          0.150000           0.188      27993.40      27996.99   \n",
       "...                ...             ...           ...           ...   \n",
       "103081        0.171501           0.020      27968.26      27970.25   \n",
       "103082        0.158101           0.020      27968.27      27970.25   \n",
       "103083        0.158101           0.020      27968.27      27970.25   \n",
       "103084        0.158101           0.020      27968.27      27970.25   \n",
       "103085        0.158101           0.020      27968.27      27970.25   \n",
       "\n",
       "        bid_quantity_1  ask_quantity_1  bid_prices_2  ...  time_ask_prices_1  \\\n",
       "999           0.150000        0.060000      27993.40  ...                  0   \n",
       "1000          0.150000        0.177791      27993.40  ...                  0   \n",
       "1001          0.150000        0.177791      27993.40  ...                  0   \n",
       "1002          0.250000        0.177791      27992.96  ...                  0   \n",
       "1003          0.250000        0.177791      27992.96  ...                  0   \n",
       "...                ...             ...           ...  ...                ...   \n",
       "103081        0.020000        0.053564      27967.98  ...                  0   \n",
       "103082        0.171501        0.053564      27968.26  ...                  0   \n",
       "103083        0.171501        0.053564      27968.26  ...                  0   \n",
       "103084        0.171501        0.053564      27968.26  ...                  0   \n",
       "103085        0.171501        0.053564      27967.98  ...                  0   \n",
       "\n",
       "        time_bid_prices_2  time_ask_prices_2  time_bid_prices_3  \\\n",
       "999                     1                  0                  1   \n",
       "1000                    1                  0                  1   \n",
       "1001                    1                  0                  1   \n",
       "1002                    1                  0                  1   \n",
       "1003                    1                  0                  1   \n",
       "...                   ...                ...                ...   \n",
       "103081                  1                  0                  1   \n",
       "103082                  1                  0                  1   \n",
       "103083                  1                  0                  1   \n",
       "103084                  1                  0                  1   \n",
       "103085                  0                  0                  0   \n",
       "\n",
       "        time_ask_prices_3  time_bid_prices_4  time_ask_prices_4  \\\n",
       "999                     0                  1                  0   \n",
       "1000                    0                  1                  0   \n",
       "1001                    0                  1                  0   \n",
       "1002                    0                  1                  0   \n",
       "1003                    0                  1                  0   \n",
       "...                   ...                ...                ...   \n",
       "103081                  0                  1                  0   \n",
       "103082                  0                  1                  0   \n",
       "103083                  0                  1                  0   \n",
       "103084                  0                  1                  0   \n",
       "103085                  0                  0                  0   \n",
       "\n",
       "        vol_imbalance    microprice  daily_volatility  \n",
       "999         -0.442198  27995.399481        494.105453  \n",
       "1000        -0.442198  27995.399481        494.105453  \n",
       "1001        -0.442198  27995.399481        494.105386  \n",
       "1002        -0.112426  27994.895089        494.065679  \n",
       "1003        -0.112426  27994.895089        494.065680  \n",
       "...               ...           ...               ...  \n",
       "103081       0.791124  27968.475743         74.788650  \n",
       "103082       0.775408  27968.500100         74.790967  \n",
       "103083       0.775408  27968.500100         74.790958  \n",
       "103084       0.775408  27968.500100         74.790948  \n",
       "103085       0.775408  27968.500100         74.790937  \n",
       "\n",
       "[102087 rows x 34 columns]"
      ]
     },
     "execution_count": 2,
     "metadata": {},
     "output_type": "execute_result"
    }
   ],
   "source": [
    "df = pd.read_csv('prepared_LOB_trunc_data.csv',\n",
    "                 index_col=0) # if this file is read, you could start from cell number 17\n",
    "df"
   ]
  },
  {
   "cell_type": "code",
   "execution_count": 3,
   "id": "93636ab5",
   "metadata": {
    "id": "93636ab5"
   },
   "outputs": [],
   "source": [
    "def finder_of_fulfilment(df, column):\n",
    "    time, indicator = [], []\n",
    "    if 'bid' in column:\n",
    "      repr_column = 'ask_prices_0'\n",
    "    else:\n",
    "      repr_column = 'bid_prices_0'\n",
    "    for i in range(len(df)):\n",
    "        num = df[column].iloc[i]\n",
    "        arr = df[df[repr_column]>num][repr_column].index\n",
    "        time.append(pd.to_datetime(df['timestamp'].iloc[arr[arr>i][0]]) - pd.to_datetime(df['timestamp'].iloc[i])\n",
    "                    if len(arr[arr>i]) else\n",
    "                    pd.to_datetime('2023-10-03 00:00:00') - pd.to_datetime(df['timestamp'].iloc[i]))\n",
    "    return time"
   ]
  },
  {
   "cell_type": "code",
   "execution_count": 4,
   "id": "e392ab7f",
   "metadata": {},
   "outputs": [],
   "source": [
    "columns = ['bid_prices_0', 'ask_prices_0', 'bid_prices_1','ask_prices_1', 'bid_prices_2', 'ask_prices_2', \n",
    "           'bid_prices_3', 'ask_prices_3', 'bid_prices_4', 'ask_prices_4']"
   ]
  },
  {
   "cell_type": "code",
   "execution_count": null,
   "id": "QqQG4rDMcR07",
   "metadata": {
    "id": "QqQG4rDMcR07"
   },
   "outputs": [],
   "source": [
    "for column in columns:\n",
    "  df['time_'+column] = finder_of_fulfilment(df, column)"
   ]
  },
  {
   "cell_type": "code",
   "execution_count": null,
   "id": "tyVoIFqYNJp0",
   "metadata": {
    "id": "tyVoIFqYNJp0"
   },
   "outputs": [],
   "source": [
    "for column in columns:\n",
    "  df['time_'+column] = round((df['time_'+column]).dt.total_seconds().astype(float),4)"
   ]
  },
  {
   "cell_type": "code",
   "execution_count": null,
   "id": "sxzlnwghe7Vf",
   "metadata": {
    "id": "sxzlnwghe7Vf"
   },
   "outputs": [],
   "source": [
    "def plot_KM_estimator(column):\n",
    "  times = np.sort(df['time_'+column].unique())\n",
    "  S_of_t = []\n",
    "\n",
    "  for time in times:\n",
    "      num_executed = len(df[df['time_'+column]==time])\n",
    "      num_survived = len(df[df['time_'+column]>time])\n",
    "      prob = num_executed/(num_survived+num_executed)\n",
    "      S_of_t.append(1-prob)\n",
    "\n",
    "\n",
    "  S_hat = np.cumprod(S_of_t)\n",
    "  return S_hat, times"
   ]
  },
  {
   "cell_type": "code",
   "execution_count": null,
   "id": "OLmiTRCLgWKa",
   "metadata": {
    "colab": {
     "base_uri": "https://localhost:8080/",
     "height": 718
    },
    "id": "OLmiTRCLgWKa",
    "outputId": "b807e895-218b-4fe9-f5a8-9ea82113d301"
   },
   "outputs": [],
   "source": [
    "fig, (ax1, ax2) = plt.subplots(2, 1, figsize=(10, 8))\n",
    "\n",
    "for column in columns:\n",
    "  KM_est, times = plot_KM_estimator(column)\n",
    "  if 'bid' in column:\n",
    "    ax1.plot(times[:len(times)//10], KM_est[:len(times)//10], linewidth=2, label=f\"Level {column.split('_')[-1]}, \n",
    "             {column.split('_')[0]} pegged\")\n",
    "    ax1.set_xlabel('t (sec.)')\n",
    "    ax1.set_ylabel('$\\hat{S}(t)$')\n",
    "    ax1.set_title('Bid Survival Probability Over Time')\n",
    "    ax1.legend()\n",
    "    ax1.grid(True)\n",
    "\n",
    "  else:\n",
    "    ax2.plot(times[:len(times)//10], KM_est[:len(times)//10], linewidth=2, label=f\"Level {column.split('_')[-1]},\n",
    "             {column.split('_')[0]} pegged\")\n",
    "    ax2.set_xlabel('t (sec.)')\n",
    "    ax2.set_ylabel('$\\hat{S}(t)$')\n",
    "    ax2.set_title('Ask Survival Probability Over Time')\n",
    "    ax2.legend()\n",
    "    ax2.grid(True)\n",
    "\n",
    "plt.show()"
   ]
  },
  {
   "cell_type": "code",
   "execution_count": null,
   "id": "1f85fa37",
   "metadata": {
    "colab": {
     "base_uri": "https://localhost:8080/"
    },
    "id": "1f85fa37",
    "outputId": "76c771a7-f6d2-49cd-972b-9893f3753195"
   },
   "outputs": [],
   "source": [
    "#Make some features and drop useless columns\n",
    "pd.options.mode.chained_assignment = None\n",
    "\n",
    "df['vol_imbalance'] = (df['bid_quantity_0'] - df['ask_quantity_0'])/(df['bid_quantity_0'] + df['ask_quantity_0'])\n",
    "df['microprice'] = ((df['bid_prices_0']*df['bid_quantity_0']+df['ask_prices_0']*df['ask_quantity_0'])\n",
    "                    /(df['bid_quantity_0'] + df['ask_quantity_0']))\n",
    "\n",
    "def logReturns(S):\n",
    "    return np.log(S/S.shift(1))\n",
    "\n",
    "def volFromTimeSeriesPerSecond(prices, timeStamps):\n",
    "    if np.size(prices) <= 2:\n",
    "        raise ValueError('We need more prices than 2')\n",
    "\n",
    "    # Convert timestamp strings to datetime\n",
    "    timeStamps = pd.to_datetime(timeStamps)\n",
    "\n",
    "    x = logReturns(prices)[1:]  # the value at the first index is NaN\n",
    "    xBar = np.mean(x)\n",
    "\n",
    "    # Calculate deltaT in seconds\n",
    "    deltaT = (timeStamps - timeStamps.shift(10)).dt.total_seconds()[1:]  # the value at the first index is NaN\n",
    "    N = np.size(x)\n",
    "\n",
    "    return np.sqrt(np.sum((x - xBar) ** 2 / deltaT) / (N - 1))\n",
    "\n",
    "def volFromTimeSeriesPerHour(prices,timeStamps):\n",
    "    return volFromTimeSeriesPerSecond(prices, timeStamps)*np.sqrt(3600.0)\n",
    "\n",
    "def volFromTimeSeriesPerDay(prices,timeStamps):\n",
    "    return volFromTimeSeriesPerSecond(prices, timeStamps)*np.sqrt(3600.0*24)\n",
    "\n",
    "def volFromTimeSeriesPerYear(prices,timeStamps):\n",
    "    return volFromTimeSeriesPerSecond(prices, timeStamps)*np.sqrt(3600.0*24*365.25)\n",
    "\n",
    "\n",
    "print(\"Vol is %.2f%% per second\" % (100.0*volFromTimeSeriesPerSecond(df['microprice'], df['timestamp'])))\n",
    "print(\"Vol is %.2f%% per hour\" % (100.0*volFromTimeSeriesPerHour(df['microprice'], df['timestamp'])))\n",
    "print(\"Vol is %.2f%% per day\" % (100.0*volFromTimeSeriesPerDay(df['microprice'], df['timestamp'])))\n",
    "print(\"Vol is %.2f%% per year\" % (100.0*volFromTimeSeriesPerYear(df['microprice'], df['timestamp'])))"
   ]
  },
  {
   "cell_type": "code",
   "execution_count": null,
   "id": "wX7XS6pRRO6V",
   "metadata": {
    "id": "wX7XS6pRRO6V"
   },
   "outputs": [],
   "source": [
    "def calculate_volatility(prices, timeStamps):\n",
    "    if len(prices) <= 1:\n",
    "        return np.nan  # Not enough data\n",
    "\n",
    "    x = logReturns(prices)\n",
    "    xBar = np.mean(x)\n",
    "    i=10\n",
    "    deltaT = (timeStamps - timeStamps.shift(i)).dt.total_seconds()\n",
    "    N = len(x)\n",
    "\n",
    "    return np.sqrt(np.nansum((x - xBar) ** 2 / deltaT) / (N - 1))\n",
    "\n",
    "# Define a function to calculate rolling volatility\n",
    "def rolling_volatility(df, window_size):\n",
    "    # Convert timestamp strings to datetime\n",
    "    df['timestamp'] = pd.to_datetime(df['timestamp'])\n",
    "\n",
    "    # Apply the rolling window\n",
    "    rolling_vol = df['microprice'].rolling(window=window_size).apply(\n",
    "        lambda x: calculate_volatility(x, df['timestamp']), raw=False\n",
    "    )\n",
    "\n",
    "    return rolling_vol\n",
    "\n",
    "window_size = 1000\n",
    "\n",
    "# Calculate rolling volatility and add it as a new column\n",
    "df['daily_volatility'] = rolling_volatility(df, window_size)"
   ]
  },
  {
   "cell_type": "code",
   "execution_count": null,
   "id": "3be901f2",
   "metadata": {
    "colab": {
     "base_uri": "https://localhost:8080/",
     "height": 564
    },
    "id": "3be901f2",
    "outputId": "d6e8b351-75c0-42b5-93e5-c95d9f41b2be"
   },
   "outputs": [],
   "source": [
    "plt.figure(figsize=(10, 6))\n",
    "\n",
    "df['timestamp'] = pd.to_datetime(df['timestamp'])\n",
    "\n",
    "# Plotting the microprice with a blue line\n",
    "plt.plot(df['timestamp'], df['microprice'], color='blue', linewidth=2, label='Microprice')\n",
    "\n",
    "# Adding labels and title\n",
    "plt.xlabel('Time')\n",
    "plt.ylabel('Microprice')\n",
    "plt.title('Microprice over Time')\n",
    "\n",
    "# Displaying the grid\n",
    "plt.grid(True)"
   ]
  },
  {
   "cell_type": "code",
   "execution_count": null,
   "id": "d4916300",
   "metadata": {
    "colab": {
     "base_uri": "https://localhost:8080/",
     "height": 564
    },
    "id": "d4916300",
    "outputId": "d7a1eb21-ca18-4364-8479-321179c987c3"
   },
   "outputs": [],
   "source": [
    "plt.figure(figsize=(10, 6))\n",
    "\n",
    "# Plotting the microprice with a blue line\n",
    "plt.plot(df['timestamp'], df['vol_imbalance'].rolling(1000).mean(), color='blue',\n",
    "         linewidth=2, label='Rolling Volume Imbalance')\n",
    "\n",
    "# Adding labels and title\n",
    "plt.xlabel('Time')\n",
    "plt.ylabel('Volume Imbalance')\n",
    "plt.title('Rolling Volume Imbalance over Time')\n",
    "\n",
    "# Displaying the grid\n",
    "plt.grid(True)"
   ]
  },
  {
   "cell_type": "code",
   "execution_count": null,
   "id": "W2IOdcadXq3F",
   "metadata": {
    "colab": {
     "base_uri": "https://localhost:8080/",
     "height": 617
    },
    "id": "W2IOdcadXq3F",
    "outputId": "6e1b5c66-e995-49f0-b34a-238c251f9b02"
   },
   "outputs": [],
   "source": [
    "df['daily_volatility'] = df['daily_volatility']*np.sqrt(360000.0*24)*100\n",
    "df"
   ]
  },
  {
   "cell_type": "code",
   "execution_count": null,
   "id": "TzNEh8kVBTD1",
   "metadata": {
    "id": "TzNEh8kVBTD1"
   },
   "outputs": [],
   "source": [
    "threshold=1\n",
    "for column in columns:\n",
    "  df['time_' + column] = df['time_' + column].apply(lambda x: 1 if x < threshold else 0)"
   ]
  },
  {
   "cell_type": "code",
   "execution_count": null,
   "id": "_B_1CtjkVkVc",
   "metadata": {
    "colab": {
     "base_uri": "https://localhost:8080/",
     "height": 350
    },
    "id": "_B_1CtjkVkVc",
    "outputId": "2c4df9dc-42c9-4600-a386-6f27149bfcb2"
   },
   "outputs": [],
   "source": [
    "df.dropna(inplace=True)\n",
    "df.describe()"
   ]
  },
  {
   "cell_type": "code",
   "execution_count": null,
   "id": "8i5niMrpCIJj",
   "metadata": {
    "id": "8i5niMrpCIJj"
   },
   "outputs": [],
   "source": [
    "df.to_csv('prepared_LOB_trunc_data.csv')"
   ]
  },
  {
   "cell_type": "code",
   "execution_count": 5,
   "id": "9907ab87",
   "metadata": {},
   "outputs": [],
   "source": [
    "columns_to_drop = ['time_' + col for col in columns] + ['timestamp']\n",
    "\n",
    "features_to_transform = [element for element in df.columns if element \n",
    "                         not in columns_to_drop+['vol_imbalance','daily_volatility']]\n",
    "df[features_to_transform] = df[features_to_transform].diff()"
   ]
  },
  {
   "cell_type": "code",
   "execution_count": 6,
   "id": "6029be6b",
   "metadata": {},
   "outputs": [],
   "source": [
    "# Do some work with features:\n",
    "df.dropna(inplace=True)"
   ]
  },
  {
   "cell_type": "code",
   "execution_count": 7,
   "id": "268a1854",
   "metadata": {
    "colab": {
     "base_uri": "https://localhost:8080/"
    },
    "id": "268a1854",
    "outputId": "3749454c-265c-433c-8e00-291f1ff5a55c"
   },
   "outputs": [
    {
     "name": "stdout",
     "output_type": "stream",
     "text": [
      "(101986, 1)\n"
     ]
    }
   ],
   "source": [
    "N = 100  # Define the number of previous observations included\n",
    "\n",
    "X = df.drop(columns=columns_to_drop).iloc[:len(df)]\n",
    "Y = df[['time_' + col for col in columns if 'ask_prices_0' in col]].iloc[N:len(df)].values\n",
    "\n",
    "print(Y.shape)"
   ]
  },
  {
   "cell_type": "code",
   "execution_count": 8,
   "id": "7973c179",
   "metadata": {
    "colab": {
     "base_uri": "https://localhost:8080/"
    },
    "id": "7973c179",
    "outputId": "7121d166-e720-4a17-aa50-e04dbf722de6"
   },
   "outputs": [
    {
     "name": "stderr",
     "output_type": "stream",
     "text": [
      "2024-01-06 17:53:07.779599: I metal_plugin/src/device/metal_device.cc:1154] Metal device set to: Apple M1 Pro\n",
      "2024-01-06 17:53:07.779682: I metal_plugin/src/device/metal_device.cc:296] systemMemory: 16.00 GB\n",
      "2024-01-06 17:53:07.779715: I metal_plugin/src/device/metal_device.cc:313] maxCacheSize: 5.33 GB\n",
      "2024-01-06 17:53:07.779821: I tensorflow/core/common_runtime/pluggable_device/pluggable_device_factory.cc:306] Could not identify NUMA node of platform GPU ID 0, defaulting to 0. Your kernel may not have been built with NUMA support.\n",
      "2024-01-06 17:53:07.779876: I tensorflow/core/common_runtime/pluggable_device/pluggable_device_factory.cc:272] Created TensorFlow device (/job:localhost/replica:0/task:0/device:GPU:0 with 0 MB memory) -> physical PluggableDevice (device: 0, name: METAL, pci bus id: <undefined>)\n"
     ]
    },
    {
     "data": {
      "text/plain": [
       "TensorShape([101986, 101, 23])"
      ]
     },
     "execution_count": 8,
     "metadata": {},
     "output_type": "execute_result"
    }
   ],
   "source": [
    "tensor_slices = []\n",
    "\n",
    "for i in range(N, len(X)):\n",
    "    start_index = max(0, i - N)\n",
    "    slice_df = X.iloc[start_index:i+1]\n",
    "\n",
    "    tensor_slice = tf.convert_to_tensor(slice_df, dtype=tf.float32)\n",
    "    tensor_slices.append(tensor_slice)\n",
    "\n",
    "X = tf.stack(tensor_slices)\n",
    "\n",
    "X.shape"
   ]
  },
  {
   "cell_type": "code",
   "execution_count": 9,
   "id": "b2a26d2b",
   "metadata": {},
   "outputs": [
    {
     "data": {
      "text/html": [
       "<div>\n",
       "<style scoped>\n",
       "    .dataframe tbody tr th:only-of-type {\n",
       "        vertical-align: middle;\n",
       "    }\n",
       "\n",
       "    .dataframe tbody tr th {\n",
       "        vertical-align: top;\n",
       "    }\n",
       "\n",
       "    .dataframe thead th {\n",
       "        text-align: right;\n",
       "    }\n",
       "</style>\n",
       "<table border=\"1\" class=\"dataframe\">\n",
       "  <thead>\n",
       "    <tr style=\"text-align: right;\">\n",
       "      <th></th>\n",
       "      <th>time_ask_prices_0</th>\n",
       "      <th>time_ask_prices_1</th>\n",
       "      <th>time_ask_prices_2</th>\n",
       "      <th>time_ask_prices_3</th>\n",
       "      <th>time_ask_prices_4</th>\n",
       "    </tr>\n",
       "  </thead>\n",
       "  <tbody>\n",
       "    <tr>\n",
       "      <th>count</th>\n",
       "      <td>101986.000000</td>\n",
       "      <td>101986.000000</td>\n",
       "      <td>101986.000000</td>\n",
       "      <td>101986.000000</td>\n",
       "      <td>101986.000000</td>\n",
       "    </tr>\n",
       "    <tr>\n",
       "      <th>mean</th>\n",
       "      <td>0.287912</td>\n",
       "      <td>0.212980</td>\n",
       "      <td>0.170572</td>\n",
       "      <td>0.136901</td>\n",
       "      <td>0.116751</td>\n",
       "    </tr>\n",
       "    <tr>\n",
       "      <th>std</th>\n",
       "      <td>0.452792</td>\n",
       "      <td>0.409416</td>\n",
       "      <td>0.376137</td>\n",
       "      <td>0.343745</td>\n",
       "      <td>0.321125</td>\n",
       "    </tr>\n",
       "    <tr>\n",
       "      <th>min</th>\n",
       "      <td>0.000000</td>\n",
       "      <td>0.000000</td>\n",
       "      <td>0.000000</td>\n",
       "      <td>0.000000</td>\n",
       "      <td>0.000000</td>\n",
       "    </tr>\n",
       "    <tr>\n",
       "      <th>25%</th>\n",
       "      <td>0.000000</td>\n",
       "      <td>0.000000</td>\n",
       "      <td>0.000000</td>\n",
       "      <td>0.000000</td>\n",
       "      <td>0.000000</td>\n",
       "    </tr>\n",
       "    <tr>\n",
       "      <th>50%</th>\n",
       "      <td>0.000000</td>\n",
       "      <td>0.000000</td>\n",
       "      <td>0.000000</td>\n",
       "      <td>0.000000</td>\n",
       "      <td>0.000000</td>\n",
       "    </tr>\n",
       "    <tr>\n",
       "      <th>75%</th>\n",
       "      <td>1.000000</td>\n",
       "      <td>0.000000</td>\n",
       "      <td>0.000000</td>\n",
       "      <td>0.000000</td>\n",
       "      <td>0.000000</td>\n",
       "    </tr>\n",
       "    <tr>\n",
       "      <th>max</th>\n",
       "      <td>1.000000</td>\n",
       "      <td>1.000000</td>\n",
       "      <td>1.000000</td>\n",
       "      <td>1.000000</td>\n",
       "      <td>1.000000</td>\n",
       "    </tr>\n",
       "  </tbody>\n",
       "</table>\n",
       "</div>"
      ],
      "text/plain": [
       "       time_ask_prices_0  time_ask_prices_1  time_ask_prices_2  \\\n",
       "count      101986.000000      101986.000000      101986.000000   \n",
       "mean            0.287912           0.212980           0.170572   \n",
       "std             0.452792           0.409416           0.376137   \n",
       "min             0.000000           0.000000           0.000000   \n",
       "25%             0.000000           0.000000           0.000000   \n",
       "50%             0.000000           0.000000           0.000000   \n",
       "75%             1.000000           0.000000           0.000000   \n",
       "max             1.000000           1.000000           1.000000   \n",
       "\n",
       "       time_ask_prices_3  time_ask_prices_4  \n",
       "count      101986.000000      101986.000000  \n",
       "mean            0.136901           0.116751  \n",
       "std             0.343745           0.321125  \n",
       "min             0.000000           0.000000  \n",
       "25%             0.000000           0.000000  \n",
       "50%             0.000000           0.000000  \n",
       "75%             0.000000           0.000000  \n",
       "max             1.000000           1.000000  "
      ]
     },
     "execution_count": 9,
     "metadata": {},
     "output_type": "execute_result"
    },
    {
     "data": {
      "image/png": "[encoded data removed]",
      "text/plain": [
       "<Figure size 640x480 with 1 Axes>"
      ]
     },
     "metadata": {},
     "output_type": "display_data"
    }
   ],
   "source": [
    "df[['time_' + col for col in columns if 'ask' in col]].iloc[N:len(df)].plot()\n",
    "df[['time_' + col for col in columns if 'ask' in col]].iloc[N:len(df)].describe()"
   ]
  },
  {
   "cell_type": "code",
   "execution_count": 10,
   "id": "3ae7218c",
   "metadata": {
    "colab": {
     "base_uri": "https://localhost:8080/"
    },
    "id": "3ae7218c",
    "outputId": "5df5a463-b621-4182-8625-c8f850c64768"
   },
   "outputs": [
    {
     "name": "stdout",
     "output_type": "stream",
     "text": [
      "X shape : (101986, 101, 23)\n",
      "Y shape : 101986\n"
     ]
    }
   ],
   "source": [
    "print('X shape :', X.shape)\n",
    "print('Y shape :',Y.shape[0])"
   ]
  },
  {
   "cell_type": "code",
   "execution_count": 11,
   "id": "7d20a3a7",
   "metadata": {},
   "outputs": [],
   "source": [
    "X_np = X.numpy()\n",
    "\n",
    "# Now use train_test_split\n",
    "X_train, X_test, Y_train, Y_test = train_test_split(X_np, Y, test_size=0.8,\n",
    "                                                    shuffle=True) # just to make test training\n",
    "X_train, X_val, Y_train, Y_val = train_test_split(X_train, Y_train, test_size=0.1, shuffle=True)"
   ]
  },
  {
   "cell_type": "code",
   "execution_count": 12,
   "id": "d7a33c75",
   "metadata": {},
   "outputs": [
    {
     "data": {
      "text/plain": [
       "{0: 0.6973484272906854, 1: 1.7667949951876805}"
      ]
     },
     "execution_count": 12,
     "metadata": {},
     "output_type": "execute_result"
    }
   ],
   "source": [
    "class_weights = class_weight.compute_class_weight(\n",
    "    'balanced',\n",
    "    classes=np.unique(Y_train.ravel()),  # Ensure Y_train is 1-dimensional\n",
    "    y=Y_train.ravel()                    # Ensure Y_train is 1-dimensional\n",
    ")\n",
    "class_weights_dict = dict(enumerate(class_weights))\n",
    "class_weights_dict"
   ]
  },
  {
   "cell_type": "code",
   "execution_count": 13,
   "id": "cf51c41b",
   "metadata": {},
   "outputs": [
    {
     "data": {
      "text/plain": [
       "0.9296372654827367"
      ]
     },
     "execution_count": 13,
     "metadata": {},
     "output_type": "execute_result"
    }
   ],
   "source": [
    "bias_initializer =  -np.log(np.count_nonzero(Y_train)/(len(Y_train)-np.count_nonzero(Y_train)))\n",
    "bias_initializer"
   ]
  },
  {
   "cell_type": "code",
   "execution_count": 14,
   "id": "5e4f2027",
   "metadata": {},
   "outputs": [],
   "source": [
    "class Encoder(tf.keras.Model):\n",
    "    def __init__(self, filters, kernel_size_Q, kernel_size_K, kernel_size_V, units,\n",
    "                 dilation_rate, num_heads, dropout_rate=0.1):\n",
    "        super(Encoder, self).__init__()\n",
    "        self.dilation_rate = dilation_rate\n",
    "\n",
    "        # Define Dropout\n",
    "        self.dropout = tf.keras.layers.Dropout(dropout_rate)\n",
    "\n",
    "        # Define Dilated Convolution layers for Q, K, V\n",
    "        self.dilated_conv_Q1 = self._create_conv_block(filters, kernel_size_Q)\n",
    "        self.dilated_conv_K1 = self._create_conv_block(filters, kernel_size_K)\n",
    "        self.dilated_conv_V1 = self._create_conv_block(filters, kernel_size_V)\n",
    "\n",
    "        # Global Average Pooling layer\n",
    "        self.global_avg_pooling = tf.keras.layers.GlobalAveragePooling2D()\n",
    "\n",
    "        # Multi-Head Attention layer with Layer Normalization\n",
    "        self.multi_head_attention = tf.keras.layers.MultiHeadAttention(num_heads=num_heads, key_dim=units)\n",
    "        self.attention_norm = tf.keras.layers.LayerNormalization(epsilon=1e-4)\n",
    "\n",
    "    def _create_conv_block(self, filters, kernel_size):\n",
    "        \"\"\"Helper function to create a convolutional block.\"\"\"\n",
    "        return tf.keras.Sequential([\n",
    "            tf.keras.layers.Conv2D(filters=filters, kernel_size=kernel_size,\n",
    "                                   dilation_rate=self.dilation_rate, padding='same', \n",
    "                                   activation='relu', kernel_regularizer=tf.keras.regularizers.l2(1e-4)),\n",
    "            tf.keras.layers.BatchNormalization(),\n",
    "            self.dropout\n",
    "        ])\n",
    "\n",
    "    def call(self, inputs):\n",
    "        # Apply convolutional block to Q, K, V\n",
    "        Q = self.dilated_conv_Q1(inputs)\n",
    "        Q = self.global_avg_pooling(Q)\n",
    "        Q = tf.expand_dims(Q, axis=1)  # Reshape for attention layer\n",
    "\n",
    "        K = self.dilated_conv_K1(inputs)\n",
    "        K = self.global_avg_pooling(K)\n",
    "        K = tf.expand_dims(K, axis=1)  # Reshape for attention layer\n",
    "\n",
    "        V = self.dilated_conv_V1(inputs)\n",
    "        V = self.global_avg_pooling(V)\n",
    "        V = tf.expand_dims(V, axis=1)  # Reshape for attention layer\n",
    "\n",
    "        # Multi-Head Attention with Layer Normalization\n",
    "        attention_output = self.multi_head_attention(Q, K, V)\n",
    "        attention_output = self.attention_norm(attention_output)\n",
    "\n",
    "        return attention_output"
   ]
  },
  {
   "cell_type": "code",
   "execution_count": 15,
   "id": "2715c7ba",
   "metadata": {},
   "outputs": [],
   "source": [
    "class Decoder(tf.keras.Model):\n",
    "    def __init__(self, units, num_dense_layers=20, dropout_rate=0.1):\n",
    "        super(Decoder, self).__init__()\n",
    "\n",
    "        # Flatten layer\n",
    "        self.flatten = tf.keras.layers.Flatten()\n",
    "\n",
    "        # Dense layers with batch normalization and dropout\n",
    "        self.dense_layers = []\n",
    "        for _ in range(num_dense_layers):\n",
    "            self.dense_layers.append(tf.keras.Sequential([\n",
    "                tf.keras.layers.Dense(units=units, activation='relu'),\n",
    "                tf.keras.layers.BatchNormalization(),\n",
    "                tf.keras.layers.Dropout(dropout_rate)\n",
    "            ]))\n",
    "\n",
    "        # Self-Attention layers\n",
    "        self.attention_layers = [SeqSelfAttention(units=i, attention_activation='relu', \n",
    "                                                  attention_type=SeqSelfAttention.ATTENTION_TYPE_MUL) \n",
    "                                 for i in range(5)]\n",
    "\n",
    "    def call(self, x):\n",
    "        x = self.flatten(x)\n",
    "        x = tf.expand_dims(x, -1)\n",
    "\n",
    "        # Apply dense layers with residual connections\n",
    "        for i, layer in enumerate(self.dense_layers):\n",
    "            original_x = x\n",
    "            x = layer(x)\n",
    "            if (i + 1) % 2 == 0:  # Apply residual connection every 2 layers\n",
    "                x = x + original_x  # Add the input x to the output of two dense layers\n",
    "\n",
    "        # Apply attention layers\n",
    "        for attention_layer in self.attention_layers:\n",
    "            x = attention_layer(x)\n",
    "\n",
    "        return x"
   ]
  },
  {
   "cell_type": "code",
   "execution_count": 16,
   "id": "42241344",
   "metadata": {},
   "outputs": [],
   "source": [
    "def create_full_model(input_shape, filters, num_heads, units, \n",
    "                      kernel_size_Q, kernel_size_K, kernel_size_V, dilation_rate):\n",
    "    # Reshape the input to add a channel dimension\n",
    "    encoder_inputs = layers.Input(shape=input_shape)\n",
    "    reshaped_inputs = tf.keras.layers.Reshape((input_shape[0], input_shape[1], 1))(encoder_inputs)\n",
    "\n",
    "    # Create an instance of the Encoder\n",
    "    encoder = Encoder(filters=filters, kernel_size_Q=kernel_size_Q, kernel_size_K=kernel_size_K, \n",
    "                      kernel_size_V=kernel_size_V, units=units, dilation_rate=dilation_rate, num_heads=num_heads)\n",
    "\n",
    "    # Get the output from the encoder\n",
    "    encoder_output = encoder(reshaped_inputs)\n",
    "\n",
    "    # Create an instance of the Decoder\n",
    "    decoder = Decoder(units=units*2)\n",
    "\n",
    "    # Get the output from the decoder\n",
    "    decoder_output = decoder(encoder_output)\n",
    "\n",
    "    # Flatten and final layers\n",
    "    flat_output = tf.keras.layers.Flatten()(decoder_output)\n",
    "    output = tf.keras.layers.Dense(1, activation='sigmoid')(flat_output)\n",
    "\n",
    "    # Create the model\n",
    "    model = tf.keras.Model(inputs=encoder_inputs, outputs=output)\n",
    "    return model"
   ]
  },
  {
   "cell_type": "code",
   "execution_count": 17,
   "id": "a433a548",
   "metadata": {},
   "outputs": [
    {
     "name": "stdout",
     "output_type": "stream",
     "text": [
      "(18357, 101, 23) (18357, 1)\n"
     ]
    }
   ],
   "source": [
    "print(X_train.shape, Y_train.shape)"
   ]
  },
  {
   "cell_type": "code",
   "execution_count": 20,
   "id": "9af10de4",
   "metadata": {},
   "outputs": [],
   "source": [
    "# Define model parameters\n",
    "input_shape = (N+1, 23)\n",
    "output_shape = 1\n",
    "filters = 32\n",
    "units = 128\n",
    "kernel_size_Q, kernel_size_K, kernel_size_V = 4,4,4\n",
    "num_heads = 32\n",
    "d_model = 2\n",
    "batch = 8\n",
    "dilation_rate = 4"
   ]
  },
  {
   "cell_type": "code",
   "execution_count": 21,
   "id": "bdf8a504",
   "metadata": {
    "colab": {
     "base_uri": "https://localhost:8080/"
    },
    "id": "bdf8a504",
    "outputId": "db571df1-6a9a-4101-9773-56cfab43152a",
    "scrolled": true
   },
   "outputs": [
    {
     "name": "stdout",
     "output_type": "stream",
     "text": [
      "Epoch 1/100\n"
     ]
    },
    {
     "name": "stderr",
     "output_type": "stream",
     "text": [
      "2024-01-06 17:54:11.027231: I tensorflow/core/grappler/optimizers/custom_graph_optimizer_registry.cc:117] Plugin optimizer for device_type GPU is enabled.\n"
     ]
    },
    {
     "name": "stdout",
     "output_type": "stream",
     "text": [
      "2295/2295 [==============================] - 883s 345ms/step - loss: 2.4413 - accuracy: 1.0000 - precision: 0.2839 - recall: 0.4839 - auc: 0.5055 - val_loss: 5.5958 - val_accuracy: 1.0000 - val_precision: 0.2642 - val_recall: 0.8915 - val_auc: 0.4596\n",
      "Epoch 2/100\n",
      "2295/2295 [==============================] - 744s 324ms/step - loss: 1.9844 - accuracy: 1.0000 - precision: 0.2854 - recall: 0.4961 - auc: 0.5021 - val_loss: 1.3670 - val_accuracy: 1.0000 - val_precision: 0.1937 - val_recall: 0.0561 - val_auc: 0.4645\n",
      "Epoch 3/100\n",
      "2295/2295 [==============================] - 749s 326ms/step - loss: 1.4032 - accuracy: 1.0000 - precision: 0.2864 - recall: 0.4939 - auc: 0.5021 - val_loss: 2.9721 - val_accuracy: 1.0000 - val_precision: 0.2766 - val_recall: 0.9078 - val_auc: 0.5162\n",
      "Epoch 4/100\n",
      "2295/2295 [==============================] - 748s 326ms/step - loss: 1.1046 - accuracy: 1.0000 - precision: 0.2921 - recall: 0.5045 - auc: 0.5134 - val_loss: 0.6800 - val_accuracy: 1.0000 - val_precision: 0.1667 - val_recall: 0.0036 - val_auc: 0.4945\n",
      "Epoch 5/100\n",
      "2295/2295 [==============================] - 5779s 3s/step - loss: 0.9807 - accuracy: 1.0000 - precision: 0.2901 - recall: 0.4995 - auc: 0.5069 - val_loss: 0.8158 - val_accuracy: 1.0000 - val_precision: 0.2834 - val_recall: 0.5714 - val_auc: 0.5231\n",
      "Epoch 6/100\n",
      "2295/2295 [==============================] - 759s 331ms/step - loss: 0.9496 - accuracy: 1.0000 - precision: 0.2894 - recall: 0.5011 - auc: 0.5137 - val_loss: 0.6583 - val_accuracy: 1.0000 - val_precision: 0.2914 - val_recall: 0.2260 - val_auc: 0.5210\n",
      "Epoch 7/100\n",
      "2295/2295 [==============================] - 760s 331ms/step - loss: 0.8179 - accuracy: 1.0000 - precision: 0.2987 - recall: 0.5141 - auc: 0.5233 - val_loss: 0.5997 - val_accuracy: 1.0000 - val_precision: 0.0000e+00 - val_recall: 0.0000e+00 - val_auc: 0.5234\n",
      "Epoch 8/100\n",
      "2295/2295 [==============================] - 765s 333ms/step - loss: 0.7993 - accuracy: 1.0000 - precision: 0.2917 - recall: 0.5093 - auc: 0.5175 - val_loss: 0.8780 - val_accuracy: 1.0000 - val_precision: 0.2522 - val_recall: 0.4665 - val_auc: 0.4838\n",
      "Epoch 9/100\n",
      "2295/2295 [==============================] - 770s 336ms/step - loss: 0.8314 - accuracy: 1.0000 - precision: 0.2790 - recall: 0.4884 - auc: 0.4937 - val_loss: 0.7329 - val_accuracy: 1.0000 - val_precision: 0.2733 - val_recall: 0.5515 - val_auc: 0.5056\n"
     ]
    },
    {
     "data": {
      "text/plain": [
       "<keras.src.callbacks.History at 0x319965850>"
      ]
     },
     "execution_count": 21,
     "metadata": {},
     "output_type": "execute_result"
    }
   ],
   "source": [
    "# Create the model\n",
    "model = create_full_model(input_shape, filters, num_heads, units, \n",
    "                          kernel_size_Q, kernel_size_K, kernel_size_V, dilation_rate)\n",
    "model.compile(optimizer=tf.keras.optimizers.legacy.RMSprop(learning_rate=0.001),\n",
    "              loss='binary_crossentropy',\n",
    "              metrics=[tf.keras.metrics.CategoricalAccuracy(name='accuracy'),\n",
    "                       tf.keras.metrics.Precision(name='precision'),\n",
    "                       tf.keras.metrics.Recall(name='recall'),\n",
    "                       tf.keras.metrics.AUC(name='auc')])\n",
    "\n",
    "# Train the model with a validation set\n",
    "callback = tf.keras.callbacks.EarlyStopping(monitor='val_loss', patience=2)\n",
    "\n",
    "model.fit(x=X_train, y=Y_train,\n",
    "          batch_size=batch,\n",
    "          epochs=100,\n",
    "          callbacks=[callback],\n",
    "          class_weight=class_weights_dict,\n",
    "          validation_data=(X_val, Y_val))"
   ]
  },
  {
   "cell_type": "markdown",
   "id": "9fe36f65",
   "metadata": {},
   "source": [
    "# Loss is pretty low but the model's perf is not so good. The size of the trainning set is small and it affects the perf but there is still no consistent learning."
   ]
  },
  {
   "cell_type": "code",
   "execution_count": 22,
   "id": "81529074",
   "metadata": {
    "id": "81529074"
   },
   "outputs": [
    {
     "name": "stdout",
     "output_type": "stream",
     "text": [
      "2550/2550 [==============================] - 162s 58ms/step\n"
     ]
    }
   ],
   "source": [
    "Y_pred = model.predict(X_test)"
   ]
  },
  {
   "cell_type": "code",
   "execution_count": 26,
   "id": "138c5ead",
   "metadata": {},
   "outputs": [
    {
     "data": {
      "image/png": "[encoded data removed]",
      "text/plain": [
       "<Figure size 1000x800 with 1 Axes>"
      ]
     },
     "metadata": {},
     "output_type": "display_data"
    }
   ],
   "source": [
    "plt.figure(figsize=(10,8))\n",
    "plt.title('Illustration of non-tuned model performance')\n",
    "plt.plot(Y_pred[:100], label='pred')\n",
    "plt.plot(Y_test[:100], label='test')\n",
    "plt.legend()\n",
    "plt.show()"
   ]
  },
  {
   "cell_type": "markdown",
   "id": "0IX9SWmSgkGh",
   "metadata": {
    "id": "0IX9SWmSgkGh"
   },
   "source": [
    "# Training Visualization (could be skipped)"
   ]
  },
  {
   "cell_type": "code",
   "execution_count": null,
   "id": "rtqzc0D4E4LH",
   "metadata": {
    "id": "rtqzc0D4E4LH"
   },
   "outputs": [],
   "source": [
    "optimizer = RMSprop(learning_rate=0.001)\n",
    "loss_fn = tf.keras.losses.BinaryCrossentropy()\n",
    "\n",
    "@tf.function\n",
    "def train_step(model, x, y):\n",
    "    with tf.GradientTape() as tape:\n",
    "        predictions = model(x, training=True)\n",
    "        loss = loss_fn(y, predictions)\n",
    "    gradients = tape.gradient(loss, model.trainable_variables)\n",
    "    optimizer.apply_gradients(zip(gradients, model.trainable_variables))\n",
    "    return loss, gradients\n",
    "\n",
    "def plot_distribution(data, title):\n",
    "    plt.hist(data.flatten(), bins=50)\n",
    "    plt.title(title)\n",
    "    plt.show()\n",
    "\n",
    "# Assuming X and Y are your data and labels\n",
    "for epoch in range(3):\n",
    "    for step in range(0, len(X_train), batch):\n",
    "        x_batch = X_train[step:step + batch]\n",
    "        y_batch = Y_train[step:step + batch]\n",
    "\n",
    "        loss, gradients = train_step(model, x_batch, y_batch)\n",
    "\n",
    "        # Every N steps, visualize weights, activations, and gradients\n",
    "        if step % 100 == 0:\n",
    "            # Visualize weights and gradients\n",
    "            for var, grad in zip(model.trainable_variables, gradients):\n",
    "                plot_distribution(var.numpy(), f'Weights of {var.name}')\n",
    "                plot_distribution(grad.numpy(), f'Gradients of {var.name}')\n",
    "\n",
    "            # Visualize activations\n",
    "            intermediate_model = tf.keras.Model(inputs=model.input, outputs=[layer.output for \n",
    "                                                                             layer in model.layers])\n",
    "            activations = intermediate_model.predict(x_batch)\n",
    "            for i, activation in enumerate(activations):\n",
    "                plot_distribution(activation, f'Activation of layer {i+1}')"
   ]
  },
  {
   "cell_type": "markdown",
   "id": "c81b8ddc",
   "metadata": {},
   "source": [
    "# Adjusting Hyperparametes"
   ]
  },
  {
   "cell_type": "code",
   "execution_count": 27,
   "id": "biUDVozSdhVw",
   "metadata": {
    "id": "biUDVozSdhVw",
    "scrolled": true
   },
   "outputs": [
    {
     "name": "stderr",
     "output_type": "stream",
     "text": [
      "[I 2024-01-06 21:20:38,234] A new study created in memory with name: no-name-9c364dda-3873-418a-a96b-3c0326ef9df0\n"
     ]
    },
    {
     "name": "stdout",
     "output_type": "stream",
     "text": [
      "16 4 2 64 128 4 9\n",
      "Epoch 1/10\n",
      "1148/1148 [==============================] - 1501s 1s/step - loss: 0.9425 - precision: 0.2832 - recall: 0.4974 - auc: 0.5032 - val_loss: 0.8451 - val_precision: 0.2833 - val_recall: 0.7920 - val_auc: 0.5143\n",
      "Epoch 2/10\n",
      "1148/1148 [==============================] - 2055s 2s/step - loss: 0.8889 - precision: 0.2857 - recall: 0.4993 - auc: 0.5038 - val_loss: 0.9742 - val_precision: 0.2351 - val_recall: 0.4430 - val_auc: 0.4665\n",
      "Epoch 3/10\n",
      "1148/1148 [==============================] - 1286s 1s/step - loss: 0.8831 - precision: 0.2839 - recall: 0.4910 - auc: 0.5021 - val_loss: 0.6744 - val_precision: 0.3393 - val_recall: 0.1374 - val_auc: 0.4911\n",
      "Epoch 4/10\n",
      "1148/1148 [==============================] - 6854s 6s/step - loss: 0.8911 - precision: 0.2928 - recall: 0.5038 - auc: 0.5114 - val_loss: 0.6317 - val_precision: 0.2838 - val_recall: 0.1139 - val_auc: 0.5349\n",
      "Epoch 5/10\n",
      "1148/1148 [==============================] - 3134s 3s/step - loss: 0.8714 - precision: 0.2867 - recall: 0.4976 - auc: 0.5062 - val_loss: 1.3135 - val_precision: 0.2684 - val_recall: 0.9512 - val_auc: 0.4945\n",
      "Epoch 6/10\n",
      "1148/1148 [==============================] - 7112s 6s/step - loss: 0.8700 - precision: 0.2900 - recall: 0.4968 - auc: 0.5102 - val_loss: 0.6531 - val_precision: 0.4542 - val_recall: 0.2333 - val_auc: 0.5392\n"
     ]
    },
    {
     "name": "stderr",
     "output_type": "stream",
     "text": [
      "[I 2024-01-07 03:26:21,163] Trial 0 finished with value: 1.0128792275985083 and parameters: {'num_heads': 4, 'filters': 16, 'units': 64, 'kernel_size_Q': 128, 'kernel_size_K': 4, 'kernel_size_V': 9, 'dilation_rate': 16, 'batch': 16}. Best is trial 0 with value: 1.0128792275985083.\n"
     ]
    },
    {
     "name": "stdout",
     "output_type": "stream",
     "text": [
      "32 8 2 128 128 4 9\n",
      "Epoch 1/10\n",
      "1148/1148 [==============================] - 3661s 1s/step - loss: 2.0672 - precision: 0.2842 - recall: 0.4955 - auc: 0.5040 - val_loss: 4.9605 - val_precision: 0.2555 - val_recall: 0.7324 - val_auc: 0.4657\n",
      "Epoch 2/10\n",
      "1148/1148 [==============================] - 759s 661ms/step - loss: 1.8164 - precision: 0.2845 - recall: 0.4907 - auc: 0.5023 - val_loss: 1.6852 - val_precision: 0.2681 - val_recall: 0.7685 - val_auc: 0.5056\n",
      "Epoch 3/10\n",
      "1148/1148 [==============================] - 1234s 1s/step - loss: 1.6020 - precision: 0.2947 - recall: 0.5082 - auc: 0.5213 - val_loss: 2.5344 - val_precision: 0.2628 - val_recall: 0.9277 - val_auc: 0.5107\n",
      "Epoch 4/10\n",
      "1148/1148 [==============================] - 1549s 1s/step - loss: 1.5817 - precision: 0.2828 - recall: 0.4914 - auc: 0.5029 - val_loss: 0.7241 - val_precision: 0.3755 - val_recall: 0.3327 - val_auc: 0.5839\n",
      "Epoch 5/10\n",
      "1148/1148 [==============================] - 761s 663ms/step - loss: 1.4495 - precision: 0.2926 - recall: 0.5009 - auc: 0.5165 - val_loss: 1.1015 - val_precision: 0.0000e+00 - val_recall: 0.0000e+00 - val_auc: 0.5140\n",
      "Epoch 6/10\n",
      "1148/1148 [==============================] - 762s 663ms/step - loss: 1.3390 - precision: 0.2897 - recall: 0.5036 - auc: 0.5091 - val_loss: 1.0054 - val_precision: 0.2122 - val_recall: 0.2387 - val_auc: 0.4509\n"
     ]
    },
    {
     "name": "stderr",
     "output_type": "stream",
     "text": [
      "[I 2024-01-07 05:51:48,009] Trial 1 finished with value: 1.0145105024178824 and parameters: {'num_heads': 8, 'filters': 32, 'units': 128, 'kernel_size_Q': 128, 'kernel_size_K': 4, 'kernel_size_V': 9, 'dilation_rate': 3, 'batch': 16}. Best is trial 1 with value: 1.0145105024178824.\n"
     ]
    },
    {
     "name": "stdout",
     "output_type": "stream",
     "text": [
      "16 16 2 64 64 2 9\n",
      "Epoch 1/10\n",
      "287/287 [==============================] - 463s 1s/step - loss: 0.8732 - precision: 0.2931 - recall: 0.5115 - auc: 0.5128 - val_loss: 0.7056 - val_precision: 0.2077 - val_recall: 0.3038 - val_auc: 0.4455\n",
      "Epoch 2/10\n",
      "287/287 [==============================] - 169s 589ms/step - loss: 0.8162 - precision: 0.2837 - recall: 0.5038 - auc: 0.4990 - val_loss: 0.7944 - val_precision: 0.2766 - val_recall: 0.5552 - val_auc: 0.4978\n",
      "Epoch 3/10\n",
      "287/287 [==============================] - 169s 590ms/step - loss: 0.8160 - precision: 0.2842 - recall: 0.4905 - auc: 0.5037 - val_loss: 0.8089 - val_precision: 0.2602 - val_recall: 0.7595 - val_auc: 0.4706\n"
     ]
    },
    {
     "name": "stderr",
     "output_type": "stream",
     "text": [
      "[I 2024-01-07 06:05:10,795] Trial 2 finished with value: 0.9765122930208842 and parameters: {'num_heads': 16, 'filters': 16, 'units': 64, 'kernel_size_Q': 64, 'kernel_size_K': 2, 'kernel_size_V': 9, 'dilation_rate': 3, 'batch': 64}. Best is trial 1 with value: 1.0145105024178824.\n"
     ]
    },
    {
     "name": "stdout",
     "output_type": "stream",
     "text": [
      "16 8 2 64 128 4 9\n",
      "Epoch 1/10\n",
      "1148/1148 [==============================] - 1020s 713ms/step - loss: 0.9832 - precision: 0.2867 - recall: 0.4991 - auc: 0.5048 - val_loss: 0.6321 - val_precision: 0.2533 - val_recall: 0.0687 - val_auc: 0.4885\n",
      "Epoch 2/10\n",
      "1148/1148 [==============================] - 3117s 3s/step - loss: 0.9172 - precision: 0.2852 - recall: 0.4922 - auc: 0.5033 - val_loss: 1.0351 - val_precision: 0.3192 - val_recall: 0.5732 - val_auc: 0.5951\n",
      "Epoch 3/10\n",
      "1148/1148 [==============================] - 9809s 9s/step - loss: 0.9091 - precision: 0.2870 - recall: 0.5022 - auc: 0.5093 - val_loss: 0.8952 - val_precision: 0.3202 - val_recall: 0.3978 - val_auc: 0.5592\n"
     ]
    },
    {
     "name": "stderr",
     "output_type": "stream",
     "text": [
      "[I 2024-01-07 09:57:37,330] Trial 3 finished with value: 1.0534019867579143 and parameters: {'num_heads': 8, 'filters': 16, 'units': 64, 'kernel_size_Q': 128, 'kernel_size_K': 4, 'kernel_size_V': 9, 'dilation_rate': 3, 'batch': 16}. Best is trial 3 with value: 1.0534019867579143.\n"
     ]
    },
    {
     "name": "stdout",
     "output_type": "stream",
     "text": [
      "16 16 2 128 128 2 3\n",
      "Epoch 1/10\n",
      "1148/1148 [==============================] - 3062s 2s/step - loss: 1.2392 - precision: 0.2914 - recall: 0.5001 - auc: 0.5114 - val_loss: 1.0299 - val_precision: 0.3179 - val_recall: 0.1989 - val_auc: 0.5223\n",
      "Epoch 2/10\n",
      "1148/1148 [==============================] - 4035s 4s/step - loss: 1.1984 - precision: 0.2873 - recall: 0.4928 - auc: 0.5036 - val_loss: 0.9434 - val_precision: 0.2618 - val_recall: 0.7396 - val_auc: 0.4991\n",
      "Epoch 3/10\n",
      "1148/1148 [==============================] - 4532s 4s/step - loss: 1.1140 - precision: 0.2839 - recall: 0.4943 - auc: 0.5012 - val_loss: 2.6977 - val_precision: 0.2689 - val_recall: 0.7125 - val_auc: 0.4929\n",
      "Epoch 4/10\n",
      "1148/1148 [==============================] - 2368s 2s/step - loss: 1.0767 - precision: 0.2847 - recall: 0.4934 - auc: 0.5020 - val_loss: 1.0384 - val_precision: 0.2480 - val_recall: 0.3834 - val_auc: 0.4612\n"
     ]
    },
    {
     "name": "stderr",
     "output_type": "stream",
     "text": [
      "[I 2024-01-07 13:50:54,924] Trial 4 finished with value: 0.998408168554306 and parameters: {'num_heads': 16, 'filters': 16, 'units': 128, 'kernel_size_Q': 128, 'kernel_size_K': 2, 'kernel_size_V': 3, 'dilation_rate': 3, 'batch': 16}. Best is trial 3 with value: 1.0534019867579143.\n"
     ]
    },
    {
     "name": "stdout",
     "output_type": "stream",
     "text": [
      "32 4 2 128 128 4 9\n",
      "Epoch 1/10\n",
      "287/287 [==============================] - 2193s 7s/step - loss: 1.8030 - precision: 0.2845 - recall: 0.5070 - auc: 0.5059 - val_loss: 0.8145 - val_precision: 0.2679 - val_recall: 0.9385 - val_auc: 0.5894\n",
      "Epoch 2/10\n",
      "287/287 [==============================] - 1319s 5s/step - loss: 1.6172 - precision: 0.2838 - recall: 0.5030 - auc: 0.4994 - val_loss: 0.7136 - val_precision: 0.2832 - val_recall: 0.2929 - val_auc: 0.5326\n",
      "Epoch 3/10\n",
      "287/287 [==============================] - 3699s 13s/step - loss: 1.6415 - precision: 0.2835 - recall: 0.4945 - auc: 0.5036 - val_loss: 1.3163 - val_precision: 0.2577 - val_recall: 0.6637 - val_auc: 0.4897\n",
      "Epoch 4/10\n",
      "287/287 [==============================] - 1696s 6s/step - loss: 1.4562 - precision: 0.2843 - recall: 0.4941 - auc: 0.5028 - val_loss: 2.3239 - val_precision: 0.2747 - val_recall: 0.8788 - val_auc: 0.5155\n"
     ]
    },
    {
     "name": "stderr",
     "output_type": "stream",
     "text": [
      "[I 2024-01-07 16:19:31,760] Trial 5 finished with value: 1.034753330051899 and parameters: {'num_heads': 4, 'filters': 32, 'units': 128, 'kernel_size_Q': 128, 'kernel_size_K': 4, 'kernel_size_V': 9, 'dilation_rate': 2, 'batch': 64}. Best is trial 3 with value: 1.0534019867579143.\n"
     ]
    },
    {
     "name": "stdout",
     "output_type": "stream",
     "text": [
      "32 4 2 64 64 4 9\n",
      "Epoch 1/10\n",
      "287/287 [==============================] - 1653s 1s/step - loss: 1.1543 - precision: 0.2870 - recall: 0.5090 - auc: 0.5062 - val_loss: 0.6885 - val_precision: 0.2754 - val_recall: 0.2495 - val_auc: 0.4582\n",
      "Epoch 2/10\n",
      "287/287 [==============================] - 200s 695ms/step - loss: 1.1275 - precision: 0.2812 - recall: 0.4882 - auc: 0.4988 - val_loss: 0.8846 - val_precision: 0.2763 - val_recall: 0.6076 - val_auc: 0.4790\n",
      "Epoch 3/10\n",
      "287/287 [==============================] - 197s 685ms/step - loss: 1.0724 - precision: 0.2905 - recall: 0.4980 - auc: 0.5121 - val_loss: 0.7934 - val_precision: 0.2609 - val_recall: 0.5732 - val_auc: 0.4803\n"
     ]
    },
    {
     "name": "stderr",
     "output_type": "stream",
     "text": [
      "[I 2024-01-07 16:53:42,775] Trial 6 finished with value: 0.9782211581865947 and parameters: {'num_heads': 4, 'filters': 32, 'units': 64, 'kernel_size_Q': 64, 'kernel_size_K': 4, 'kernel_size_V': 9, 'dilation_rate': 2, 'batch': 64}. Best is trial 3 with value: 1.0534019867579143.\n"
     ]
    },
    {
     "name": "stdout",
     "output_type": "stream",
     "text": [
      "16 16 2 64 128 2 3\n",
      "Epoch 1/10\n",
      "1148/1148 [==============================] - 1714s 1s/step - loss: 1.0142 - precision: 0.2839 - recall: 0.4914 - auc: 0.4985 - val_loss: 0.9122 - val_precision: 0.2836 - val_recall: 0.6564 - val_auc: 0.5002\n",
      "Epoch 2/10\n",
      "1148/1148 [==============================] - 750s 653ms/step - loss: 0.9352 - precision: 0.2841 - recall: 0.4972 - auc: 0.5013 - val_loss: 0.6168 - val_precision: 0.3750 - val_recall: 0.0271 - val_auc: 0.5228\n",
      "Epoch 3/10\n",
      "1148/1148 [==============================] - 1777s 2s/step - loss: 0.9085 - precision: 0.2858 - recall: 0.4932 - auc: 0.5011 - val_loss: 0.7638 - val_precision: 0.2846 - val_recall: 0.3418 - val_auc: 0.5108\n",
      "Epoch 4/10\n",
      "1148/1148 [==============================] - 2215s 2s/step - loss: 0.8767 - precision: 0.2818 - recall: 0.4885 - auc: 0.5008 - val_loss: 0.8603 - val_precision: 0.2797 - val_recall: 0.4774 - val_auc: 0.4948\n"
     ]
    },
    {
     "name": "stderr",
     "output_type": "stream",
     "text": [
      "[I 2024-01-07 18:41:20,036] Trial 7 finished with value: 1.0076241865754128 and parameters: {'num_heads': 16, 'filters': 16, 'units': 64, 'kernel_size_Q': 128, 'kernel_size_K': 2, 'kernel_size_V': 3, 'dilation_rate': 2, 'batch': 16}. Best is trial 3 with value: 1.0534019867579143.\n"
     ]
    },
    {
     "name": "stdout",
     "output_type": "stream",
     "text": [
      "16 4 2 64 64 2 9\n",
      "Epoch 1/10\n",
      "287/287 [==============================] - 1207s 1s/step - loss: 0.8966 - precision: 0.2800 - recall: 0.4909 - auc: 0.4977 - val_loss: 0.6893 - val_precision: 0.2357 - val_recall: 0.2459 - val_auc: 0.4542\n",
      "Epoch 2/10\n",
      "287/287 [==============================] - 191s 664ms/step - loss: 0.8487 - precision: 0.2863 - recall: 0.5082 - auc: 0.5002 - val_loss: 0.6952 - val_precision: 0.2988 - val_recall: 0.5479 - val_auc: 0.5450\n",
      "Epoch 3/10\n",
      "287/287 [==============================] - 1114s 4s/step - loss: 0.8525 - precision: 0.2842 - recall: 0.5053 - auc: 0.5039 - val_loss: 0.7850 - val_precision: 0.2712 - val_recall: 0.7360 - val_auc: 0.4982\n"
     ]
    },
    {
     "name": "stderr",
     "output_type": "stream",
     "text": [
      "[I 2024-01-07 19:23:12,427] Trial 8 finished with value: 0.9997120896975199 and parameters: {'num_heads': 4, 'filters': 16, 'units': 64, 'kernel_size_Q': 64, 'kernel_size_K': 2, 'kernel_size_V': 9, 'dilation_rate': 3, 'batch': 64}. Best is trial 3 with value: 1.0534019867579143.\n"
     ]
    },
    {
     "name": "stdout",
     "output_type": "stream",
     "text": [
      "16 16 2 64 64 4 9\n",
      "Epoch 1/10\n",
      "287/287 [==============================] - 5117s 10s/step - loss: 0.8930 - precision: 0.2870 - recall: 0.5109 - auc: 0.5036 - val_loss: 0.6687 - val_precision: 0.2540 - val_recall: 0.3146 - val_auc: 0.4888\n",
      "Epoch 2/10\n",
      "287/287 [==============================] - 420s 1s/step - loss: 0.8206 - precision: 0.2866 - recall: 0.4957 - auc: 0.5056 - val_loss: 0.7389 - val_precision: 0.2583 - val_recall: 0.4774 - val_auc: 0.4758\n",
      "Epoch 3/10\n",
      "287/287 [==============================] - 454s 2s/step - loss: 0.8120 - precision: 0.2872 - recall: 0.4909 - auc: 0.5041 - val_loss: 0.9078 - val_precision: 0.2644 - val_recall: 0.9458 - val_auc: 0.4452\n"
     ]
    },
    {
     "name": "stderr",
     "output_type": "stream",
     "text": [
      "[I 2024-01-07 21:03:03,803] Trial 9 finished with value: 0.9743399818738301 and parameters: {'num_heads': 16, 'filters': 16, 'units': 64, 'kernel_size_Q': 64, 'kernel_size_K': 4, 'kernel_size_V': 9, 'dilation_rate': 16, 'batch': 64}. Best is trial 3 with value: 1.0534019867579143.\n"
     ]
    },
    {
     "name": "stdout",
     "output_type": "stream",
     "text": [
      "Best trial:\n",
      "  Value: 1.0534019867579143\n",
      "  Params: \n",
      "    num_heads: 8\n",
      "    filters: 16\n",
      "    units: 64\n",
      "    kernel_size_Q: 128\n",
      "    kernel_size_K: 4\n",
      "    kernel_size_V: 9\n",
      "    dilation_rate: 3\n",
      "    batch: 16\n"
     ]
    }
   ],
   "source": [
    "# Optuna objective function\n",
    "def objective(trial):\n",
    "    # Suggest values for the hyperparameters\n",
    "    num_heads = trial.suggest_categorical('num_heads', [4, 8, 16])\n",
    "    filters = trial.suggest_categorical('filters', [16, 32])\n",
    "    units = trial.suggest_categorical('units', [64, 128])\n",
    "    kernel_size_Q = trial.suggest_categorical('kernel_size_Q', [64, 128])\n",
    "    kernel_size_K = trial.suggest_categorical('kernel_size_K', [2, 4])\n",
    "    kernel_size_V = trial.suggest_categorical('kernel_size_V', [3, 9])\n",
    "    dilation_rate = trial.suggest_categorical('dilation_rate', [2, 3, 16])\n",
    "    batch = trial.suggest_categorical('batch', [16,64])\n",
    "\n",
    "    # Create the model\n",
    "    model = create_full_model(input_shape, filters, num_heads, units, \n",
    "                              kernel_size_Q, kernel_size_K, kernel_size_V, dilation_rate)\n",
    "    model.compile(optimizer=tf.keras.optimizers.legacy.RMSprop(learning_rate=0.001),\n",
    "                  loss='binary_crossentropy',\n",
    "                  metrics=[#tf.keras.metrics.CategoricalAccuracy(name='accuracy'),\n",
    "                           tf.keras.metrics.Precision(name='precision'),\n",
    "                           tf.keras.metrics.Recall(name='recall'),\n",
    "                           tf.keras.metrics.AUC(name='auc')])\n",
    "    \n",
    "    print(filters, num_heads, d_model, units, kernel_size_Q, kernel_size_K, kernel_size_V)\n",
    "    \n",
    "    # Train the model with a validation set\n",
    "    callback = tf.keras.callbacks.EarlyStopping(monitor='val_loss', patience=2)\n",
    "    \n",
    "    \n",
    "    history = model.fit(x=X_train, y=Y_train, \n",
    "              batch_size=batch, \n",
    "              epochs=10, \n",
    "              callbacks=[callback],\n",
    "              class_weight=class_weights_dict,\n",
    "              validation_data=(X_val, Y_val)) # Include validation data here\n",
    "\n",
    "    val_loss = np.mean(history.history['val_auc']) + np.mean(history.history['auc'])\n",
    "    \n",
    "    return val_loss\n",
    "\n",
    "# Optuna study\n",
    "study = optuna.create_study(direction='maximize')  # 'minimize' if lower is better, 'maximize' otherwise\n",
    "study.optimize(objective, n_trials=10)  # Adjust the number of trials\n",
    "\n",
    "# Print the optimal hyperparameters\n",
    "print('Best trial:')\n",
    "trial = study.best_trial\n",
    "print(f'  Value: {trial.value}')\n",
    "print('  Params: ')\n",
    "for key, value in trial.params.items():\n",
    "    print(f'    {key}: {value}')"
   ]
  },
  {
   "cell_type": "markdown",
   "id": "de650d04",
   "metadata": {},
   "source": [
    "# The performance is still not impressive"
   ]
  },
  {
   "cell_type": "code",
   "execution_count": 28,
   "id": "wgPEvxifbRzO",
   "metadata": {
    "id": "wgPEvxifbRzO",
    "scrolled": true
   },
   "outputs": [
    {
     "name": "stdout",
     "output_type": "stream",
     "text": [
      "Epoch 1/100\n",
      "1148/1148 [==============================] - 1558s 1s/step - loss: 0.9701 - precision: 0.2850 - recall: 0.4955 - auc: 0.5019 - val_loss: 0.8678 - val_precision: 0.2647 - val_recall: 0.6817 - val_auc: 0.4816\n",
      "Epoch 2/100\n",
      "1148/1148 [==============================] - 951s 828ms/step - loss: 0.9098 - precision: 0.2889 - recall: 0.4968 - auc: 0.5131 - val_loss: 0.7021 - val_precision: 0.2570 - val_recall: 0.1157 - val_auc: 0.5028\n",
      "Epoch 3/100\n",
      "1148/1148 [==============================] - 4377s 4s/step - loss: 0.9141 - precision: 0.2818 - recall: 0.4953 - auc: 0.5016 - val_loss: 0.7201 - val_precision: 0.2621 - val_recall: 0.2640 - val_auc: 0.4757\n",
      "Epoch 4/100\n",
      "1148/1148 [==============================] - 2961s 3s/step - loss: 0.9459 - precision: 0.2903 - recall: 0.5115 - auc: 0.5093 - val_loss: 0.7606 - val_precision: 0.3236 - val_recall: 0.3400 - val_auc: 0.5356\n"
     ]
    }
   ],
   "source": [
    "# Run the model with the best params\n",
    "input_shape = (N+1, 23)\n",
    "output_shape = 1\n",
    "num_heads = trial.params['num_heads']\n",
    "filters = trial.params['filters']\n",
    "units = trial.params['units']\n",
    "kernel_size_Q = trial.params['kernel_size_Q']\n",
    "kernel_size_K = trial.params['kernel_size_K']\n",
    "kernel_size_V = trial.params['kernel_size_V']\n",
    "batch = trial.params['batch']\n",
    "# Create the model\n",
    "model = create_full_model(input_shape, filters, num_heads, units, kernel_size_Q,\n",
    "                          kernel_size_K, kernel_size_V, dilation_rate)\n",
    "\n",
    "model.compile(optimizer=tf.keras.optimizers.legacy.RMSprop(learning_rate=0.001),\n",
    "              loss='binary_crossentropy',\n",
    "              metrics=[#tf.keras.metrics.CategoricalAccuracy(name='accuracy'),\n",
    "                       tf.keras.metrics.Precision(name='precision'),\n",
    "                       tf.keras.metrics.Recall(name='recall'),\n",
    "                       tf.keras.metrics.AUC(name='auc')])\n",
    "\n",
    "# Train the model with a validation set\n",
    "callback = tf.keras.callbacks.EarlyStopping(monitor='val_loss', patience=2)\n",
    "\n",
    "\n",
    "history = model.fit(x=X_train, y=Y_train, \n",
    "          batch_size=batch, \n",
    "          epochs=100, \n",
    "          callbacks=[callback],\n",
    "          class_weight=class_weights_dict,\n",
    "          validation_data=(X_val, Y_val))"
   ]
  },
  {
   "cell_type": "code",
   "execution_count": 29,
   "id": "Fo-pZrxIdoAa",
   "metadata": {
    "id": "Fo-pZrxIdoAa"
   },
   "outputs": [
    {
     "name": "stdout",
     "output_type": "stream",
     "text": [
      "2550/2550 [==============================] - 429s 155ms/step\n"
     ]
    }
   ],
   "source": [
    "Y_pred = model.predict(X_test)"
   ]
  },
  {
   "cell_type": "code",
   "execution_count": 30,
   "id": "r-WXXEZlhRlI",
   "metadata": {
    "id": "r-WXXEZlhRlI"
   },
   "outputs": [
    {
     "data": {
      "text/plain": [
       "[<matplotlib.lines.Line2D at 0x9e49c6050>]"
      ]
     },
     "execution_count": 30,
     "metadata": {},
     "output_type": "execute_result"
    },
    {
     "data": {
      "image/png": "[encoded data removed]",
      "text/plain": [
       "<Figure size 640x480 with 1 Axes>"
      ]
     },
     "metadata": {},
     "output_type": "display_data"
    }
   ],
   "source": [
    "plt.plot(Y_pred[:100], label='pred')\n",
    "plt.plot(Y_test[:100], label='actual')"
   ]
  },
  {
   "cell_type": "code",
   "execution_count": null,
   "id": "fff19e48",
   "metadata": {},
   "outputs": [
    {
     "name": "stdout",
     "output_type": "stream",
     "text": [
      "(101086, 1)\n"
     ]
    }
   ],
   "source": [
    "N = 1000  # Define the number of previous observations included\n",
    "\n",
    "X = df.drop(columns=columns_to_drop).iloc[:len(df)]\n",
    "Y = df[['time_' + col for col in columns if 'ask_prices_0' in col]].iloc[N:len(df)].values\n",
    "\n",
    "print(Y.shape)\n",
    "\n",
    "tensor_slices = []\n",
    "\n",
    "for i in range(N, len(X)):\n",
    "    start_index = max(0, i - N)\n",
    "    slice_df = X.iloc[start_index:i+1]\n",
    "\n",
    "    tensor_slice = tf.convert_to_tensor(slice_df, dtype=tf.float32)\n",
    "    tensor_slices.append(tensor_slice)\n",
    "\n",
    "X = tf.stack(tensor_slices)\n",
    "\n",
    "X_np = X.numpy()\n",
    "\n",
    "# Now use train_test_split\n",
    "X_train, X_test, Y_train, Y_test = train_test_split(X_np, Y, test_size=0.8,\n",
    "                                                    shuffle=True) # just to make test training\n",
    "X_train, X_val, Y_train, Y_val = train_test_split(X_train, Y_train, test_size=0.1, shuffle=True)"
   ]
  },
  {
   "cell_type": "code",
   "execution_count": null,
   "id": "f832efdb",
   "metadata": {},
   "outputs": [],
   "source": [
    "# Optuna objective function\n",
    "input_shape = (N+1, 23)\n",
    "\n",
    "def objective(trial):\n",
    "    # Suggest values for the hyperparameters\n",
    "    num_heads = trial.suggest_categorical('num_heads', [4, 8, 16])\n",
    "    filters = trial.suggest_categorical('filters', [16, 32])\n",
    "    units = trial.suggest_categorical('units', [64, 128])\n",
    "    kernel_size_Q = trial.suggest_categorical('kernel_size_Q', [64, 128])\n",
    "    kernel_size_K = trial.suggest_categorical('kernel_size_K', [2, 4])\n",
    "    kernel_size_V = trial.suggest_categorical('kernel_size_V', [3, 9])\n",
    "    dilation_rate = trial.suggest_categorical('dilation_rate', [2, 3, 16])\n",
    "    batch = trial.suggest_categorical('batch', [16,64])\n",
    "\n",
    "    # Create the model\n",
    "    model_1000 = create_full_model(input_shape, filters, num_heads, units, \n",
    "                              kernel_size_Q, kernel_size_K, kernel_size_V, dilation_rate)\n",
    "    model_1000.compile(optimizer=tf.keras.optimizers.legacy.RMSprop(learning_rate=0.001),\n",
    "                  loss='binary_crossentropy',\n",
    "                  metrics=[#tf.keras.metrics.CategoricalAccuracy(name='accuracy'),\n",
    "                           tf.keras.metrics.Precision(name='precision'),\n",
    "                           tf.keras.metrics.Recall(name='recall'),\n",
    "                           tf.keras.metrics.AUC(name='auc')])\n",
    "    \n",
    "    print(filters, num_heads, d_model, units, kernel_size_Q, kernel_size_K, kernel_size_V)\n",
    "    \n",
    "    # Train the model with a validation set\n",
    "    callback = tf.keras.callbacks.EarlyStopping(monitor='val_loss', patience=2)\n",
    "    \n",
    "    \n",
    "    history = model_1000.fit(x=X_train, y=Y_train, \n",
    "              batch_size=batch, \n",
    "              epochs=10, \n",
    "              callbacks=[callback],\n",
    "              class_weight=class_weights_dict,\n",
    "              validation_data=(X_val, Y_val)) # Include validation data here\n",
    "\n",
    "    val_loss = np.mean(history.history['val_auc']) + np.mean(history.history['auc'])\n",
    "    \n",
    "    return val_loss\n",
    "\n",
    "# Optuna study\n",
    "study = optuna.create_study(direction='maximize')  # 'minimize' if lower is better, 'maximize' otherwise\n",
    "study.optimize(objective, n_trials=10)  # Adjust the number of trials\n",
    "\n",
    "# Print the optimal hyperparameters\n",
    "print('Best trial:')\n",
    "trial = study.best_trial\n",
    "print(f'  Value: {trial.value}')\n",
    "print('  Params: ')\n",
    "for key, value in trial.params.items():\n",
    "    print(f'    {key}: {value}')"
   ]
  },
  {
   "cell_type": "code",
   "execution_count": null,
   "id": "89818082",
   "metadata": {},
   "outputs": [],
   "source": [
    "# Define model parameters\n",
    "output_shape = 1\n",
    "num_heads = trial.params['num_heads']\n",
    "filters = trial.params['filters']\n",
    "units = trial.params['units']\n",
    "kernel_size_Q = trial.params['kernel_size_Q']\n",
    "kernel_size_K = trial.params['kernel_size_K']\n",
    "kernel_size_V = trial.params['kernel_size_V']\n",
    "batch = trial.params['batch']\n",
    "# Create the model\n",
    "model = create_full_model(input_shape, filters, num_heads, d_model, units, \n",
    "                              kernel_size_Q, kernel_size_K, kernel_size_V)\n",
    "\n",
    "model.compile(optimizer=tf.keras.optimizers.legacy.RMSprop(learning_rate=0.0001),\n",
    "              loss='binary_crossentropy',\n",
    "              metrics=[tf.keras.metrics.CategoricalAccuracy(name='accuracy'),\n",
    "                       tf.keras.metrics.Precision(name='precision'),\n",
    "                       tf.keras.metrics.Recall(name='recall'),\n",
    "                       tf.keras.metrics.AUC(name='auc')])\n",
    "\n",
    "# Train the model with a validation set\n",
    "callback = tf.keras.callbacks.EarlyStopping(monitor='val_loss', patience=5)\n",
    "\n",
    "\n",
    "history = model.fit(x=X_train, y=Y_train, \n",
    "          batch_size=batch, \n",
    "          epochs=100, \n",
    "          callbacks=[callback],\n",
    "          class_weight=class_weights_dict,\n",
    "          validation_data=(X_val, Y_val))\n",
    "\n",
    "Y_pred = model.predict(X_test)"
   ]
  },
  {
   "cell_type": "code",
   "execution_count": null,
   "id": "e9c62148",
   "metadata": {},
   "outputs": [],
   "source": [
    "plt.plot(Y_pred, label='pred')\n",
    "plt.plot(Y_test, label='actual')"
   ]
  },
  {
   "cell_type": "markdown",
   "id": "42a280c8",
   "metadata": {},
   "source": [
    "# Try toy model"
   ]
  },
  {
   "cell_type": "code",
   "execution_count": null,
   "id": "e92f78ce",
   "metadata": {},
   "outputs": [],
   "source": [
    "from tensorflow.keras.models import Sequential\n",
    "from tensorflow.keras.layers import Dense, Flatten, Reshape\n",
    "from keras.models import Sequential\n",
    "from keras.layers import Dense, LSTM\n",
    "from keras_self_attention import SeqSelfAttention\n",
    "from tensorflow.keras.metrics import Accuracy, Precision, Recall, AUC"
   ]
  },
  {
   "cell_type": "code",
   "execution_count": null,
   "id": "6ef863aa",
   "metadata": {},
   "outputs": [],
   "source": [
    "toy_model = Sequential()\n",
    "\n",
    "# Using LSTM for sequential data\n",
    "toy_model.add(LSTM(64, return_sequences=True, input_shape=input_shape))\n",
    "\n",
    "toy_model.add(LSTM(32, return_sequences=True))\n",
    "\n",
    "# SeqSelfAttention layer\n",
    "toy_model.add(SeqSelfAttention(units=1, attention_activation='sigmoid', \n",
    "                               attention_type=SeqSelfAttention.ATTENTION_TYPE_MUL))\n",
    "\n",
    "# Flatten the output to feed into a Dense layer\n",
    "toy_model.add(Flatten())\n",
    "\n",
    "# Dense layer(s) and Output layer\n",
    "toy_model.add(Dense(64, activation='relu'))\n",
    "toy_model.add(Dense(1, activation='sigmoid'))\n",
    "\n",
    "# Compile the model\n",
    "toy_model.compile(optimizer=tf.keras.optimizers.legacy.RMSprop(learning_rate=0.0001),\n",
    "                  loss='binary_crossentropy',\n",
    "                  metrics=[#CategoricalAccuracy(), \n",
    "                           Precision(), \n",
    "                           Recall(), \n",
    "                           AUC()])\n",
    "\n",
    "# Model summary\n",
    "toy_model.summary()\n",
    "\n",
    "history = toy_model.fit(x=X_train, y=Y_train, \n",
    "          batch_size=batch, \n",
    "          epochs=100, \n",
    "          callbacks=[callback],\n",
    "          class_weight=class_weights_dict,\n",
    "          validation_data=(X_val, Y_val))"
   ]
  },
  {
   "cell_type": "code",
   "execution_count": null,
   "id": "98d0fa28",
   "metadata": {},
   "outputs": [],
   "source": [
    "Y_toy_pred = toy_model.predict(X_test)\n",
    "plt.plot(Y_toy_pred, label='predicted')\n",
    "plt.plot(Y_test, label='actual')\n",
    "plt.legend()"
   ]
  },
  {
   "cell_type": "markdown",
   "id": "98f1f896",
   "metadata": {},
   "source": [
    "# Baseline model"
   ]
  },
  {
   "cell_type": "code",
   "execution_count": null,
   "id": "37e4a234",
   "metadata": {},
   "outputs": [],
   "source": [
    "X = X.reshape(len(X), -1)  # This will reshape X to (len(X), (N+1)*23)\n",
    "\n",
    "# Split the data into training and testing sets\n",
    "X_train, X_test, Y_train, Y_test = train_test_split(X, Y, test_size=0.2, shuffle=True)\n",
    "\n",
    "# Create a logistic regression model\n",
    "model_base = LogisticRegression()\n",
    "\n",
    "# Train the model\n",
    "model_base.fit(X_train, Y_train.ravel())\n",
    "\n",
    "# Make predictions\n",
    "Y_base_pred = model.predict_proba(X_test)[:, 1]\n",
    "\n",
    "# Calculate AUC\n",
    "auc_score = roc_auc_score(Y_test, Y_base_pred)\n",
    "print(f\"Model AUC Score: {auc_score}\")"
   ]
  },
  {
   "cell_type": "code",
   "execution_count": null,
   "id": "a379b2df",
   "metadata": {},
   "outputs": [],
   "source": [
    "plt.plot(Y_base_pred, label='predicted')\n",
    "plt.plot(Y_test, label='actual')\n",
    "plt.legend()"
   ]
  },
  {
   "cell_type": "code",
   "execution_count": null,
   "id": "61630f44",
   "metadata": {},
   "outputs": [],
   "source": []
  },
  {
   "cell_type": "code",
   "execution_count": null,
   "id": "bc25fa39",
   "metadata": {},
   "outputs": [],
   "source": [
    "auc_score_trans = roc_auc_score(Y_test, Y_pred)\n",
    "auc_score_toy = roc_auc_score(Y_test, Y_toy_pred)\n",
    "auc_score_base = roc_auc_score(Y_test, Y_base_pred)\n",
    "print(f\"Transformer Model AUC Score: {auc_score_trans}\")\n",
    "print(f\"Toy Model AUC Score: {auc_score_toy}\")\n",
    "print(f\"Logistic Regression Model AUC Score: {auc_score_base}\")"
   ]
  },
  {
   "cell_type": "code",
   "execution_count": null,
   "id": "RdPaIZUnzho9",
   "metadata": {
    "id": "RdPaIZUnzho9"
   },
   "outputs": [],
   "source": [
    "explainer = shap.TreeExplainer(toy_model)\n",
    "shap_values = explainer.shap_values(X)\n",
    "shap.summary_plot(shap_values, X)"
   ]
  },
  {
   "cell_type": "code",
   "execution_count": null,
   "id": "fej8wwvNp1a5",
   "metadata": {
    "id": "fej8wwvNp1a5"
   },
   "outputs": [],
   "source": [
    "shap_explanation = shap.Explanation(\n",
    "    values=shap_values,\n",
    "    base_values=explainer.expected_value,\n",
    "    data=X,\n",
    "    feature_names=X.columns,\n",
    "    output_names=[\"Prediction\"]\n",
    ")\n",
    "\n",
    "# Generate the waterfall plot for the first prediction\n",
    "shap.waterfall_plot(shap_explanation[0])"
   ]
  },
  {
   "cell_type": "code",
   "execution_count": null,
   "id": "1a37bbb2",
   "metadata": {},
   "outputs": [],
   "source": []
  },
  {
   "cell_type": "code",
   "execution_count": null,
   "id": "a2ccbf34",
   "metadata": {},
   "outputs": [],
   "source": []
  }
 ],
 "metadata": {
  "accelerator": "GPU",
  "colab": {
   "gpuType": "T4",
   "provenance": []
  },
  "kernelspec": {
   "display_name": "Python 3 (ipykernel)",
   "language": "python",
   "name": "python3"
  },
  "language_info": {
   "codemirror_mode": {
    "name": "ipython",
    "version": 3
   },
   "file_extension": ".py",
   "mimetype": "text/x-python",
   "name": "python",
   "nbconvert_exporter": "python",
   "pygments_lexer": "ipython3",
   "version": "3.11.5"
  }
 },
 "nbformat": 4,
 "nbformat_minor": 5
}
