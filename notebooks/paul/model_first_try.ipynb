{
 "cells": [
  {
   "cell_type": "code",
   "execution_count": 1,
   "metadata": {},
   "outputs": [],
   "source": [
    "import numpy as np\n",
    "import pandas as pd\n",
    "import os\n",
    "import math\n",
    "from tqdm.notebook import tqdm\n",
    "import matplotlib.pyplot as plt\n",
    "import torch\n",
    "import torch.nn as nn"
   ]
  },
  {
   "cell_type": "code",
   "execution_count": 2,
   "metadata": {},
   "outputs": [],
   "source": [
    "os.chdir('../..')"
   ]
  },
  {
   "cell_type": "code",
   "execution_count": 3,
   "metadata": {},
   "outputs": [],
   "source": [
    "# events\n",
    "events = pd.read_csv(\"data/LOBSTER/AMZN_2012-06-21_34200000_57600000_events_5.csv\")"
   ]
  },
  {
   "cell_type": "code",
   "execution_count": 4,
   "metadata": {},
   "outputs": [],
   "source": [
    "# preprocess\n",
    "messages = pd.read_csv('data/LOBSTER/AMZN_2012-06-21_34200000_57600000_message_5.csv',header=None)\n",
    "orderbook = pd.read_csv('data/LOBSTER/AMZN_2012-06-21_34200000_57600000_orderbook_5.csv',header=None)\n",
    "\n",
    "messages_columns = [\"time\",\"type\",\"id\",\"size\",\"price\",\"direction\"]\n",
    "messages.columns = messages_columns\n",
    "\n",
    "orderbook_columns = []\n",
    "for i in range(1,6):\n",
    "    orderbook_columns.append(\"ask_price_\" + str(i))\n",
    "    orderbook_columns.append(\"ask_size_\" + str(i))\n",
    "    orderbook_columns.append(\"bid_price_\" + str(i))\n",
    "    orderbook_columns.append(\"bid_size_\" + str(i))\n",
    "orderbook.columns = orderbook_columns"
   ]
  },
  {
   "cell_type": "markdown",
   "metadata": {},
   "source": [
    "# Feature engineering"
   ]
  },
  {
   "cell_type": "markdown",
   "metadata": {},
   "source": [
    "- Avg. trades / min to be computed"
   ]
  },
  {
   "cell_type": "code",
   "execution_count": 5,
   "metadata": {},
   "outputs": [],
   "source": [
    "# the orderbook snapshots correspond to snapshots AFTER events\n",
    "orderbook[\"time\"] = messages[\"time\"]\n",
    "\n",
    "# feature engineering\n",
    "orderbook[\"midprice\"] = (orderbook[\"ask_price_1\"] + orderbook[\"bid_price_1\"]) / 2\n",
    "orderbook[\"spread\"] = orderbook[\"ask_price_1\"] - orderbook[\"bid_price_1\"]\n",
    "orderbook[\"midprice_returns\"] = np.log(orderbook[\"midprice\"]).diff()\n",
    "orderbook[\"rolling_vol\"] = (orderbook[\"midprice_returns\"]**2).rolling(window=1000).mean()\n",
    "orderbook[\"volume_imbalance\"] = (orderbook[\"bid_size_1\"] - orderbook[\"ask_size_1\"]) / (orderbook[\"ask_size_1\"] + orderbook[\"bid_size_1\"])\n",
    "orderbook[\"microprice\"] = orderbook[\"midprice\"]+(orderbook[\"volume_imbalance\"]*orderbook[\"spread\"])\n",
    "# why mid_price in microprice?\n",
    "seconds_per_day = 3600*24\n",
    "orderbook['cos_time'] = np.cos(2*np.pi*orderbook['time']/seconds_per_day)\n",
    "orderbook['sin_time'] = np.cos(2*np.pi*orderbook['time']/seconds_per_day)"
   ]
  },
  {
   "cell_type": "code",
   "execution_count": 6,
   "metadata": {},
   "outputs": [],
   "source": [
    "messages['datetime'] = pd.to_datetime(messages['time'], unit='s')\n",
    "orderbook['datetime'] = pd.to_datetime(orderbook['time'], unit='s')\n",
    "\n",
    "messages.set_index('datetime', inplace=True)\n",
    "orderbook.set_index('datetime', inplace=True)\n",
    "\n",
    "orderbook[\"roll_avg_trades_per_min\"] = messages[\"size\"].rolling(window='5min').sum()/5"
   ]
  },
  {
   "cell_type": "markdown",
   "metadata": {},
   "source": [
    "- The volatility is estimated using a rolling mean of 1000 trades over the squared returns of the midprice timeseries.  \n",
    "- 5-minute bucket average statistics for the trading volume."
   ]
  },
  {
   "cell_type": "markdown",
   "metadata": {},
   "source": [
    "# Datapoints from events"
   ]
  },
  {
   "cell_type": "code",
   "execution_count": 7,
   "metadata": {},
   "outputs": [
    {
     "data": {
      "application/vnd.jupyter.widget-view+json": {
       "model_id": "46100c1e54b54880bfa1ed534f83a1fc",
       "version_major": 2,
       "version_minor": 0
      },
      "text/plain": [
       "0it [00:00, ?it/s]"
      ]
     },
     "metadata": {},
     "output_type": "display_data"
    }
   ],
   "source": [
    "# key parameter\n",
    "horizon = 100 # in number of trade, not ms\n",
    "\n",
    "datapoints = {}\n",
    "for idx,row in tqdm(events.iloc[:10000].iterrows()):\n",
    "    t_sub, lifetime, cause, level = list(row)\n",
    "    level = int(level)\n",
    "    subdf = orderbook[(orderbook[\"time\"] <= t_sub)].iloc[-horizon:]\n",
    "    X = subdf.drop(columns=[\"time\",\"midprice_returns\"]).to_numpy(dtype=np.float32)\n",
    "    if ~ np.isnan(X).any():\n",
    "        assert len(X) == horizon\n",
    "        if level not in datapoints:\n",
    "            datapoints[level] = []\n",
    "        datapoints[level].append((X,lifetime,int(cause)))"
   ]
  },
  {
   "cell_type": "code",
   "execution_count": 8,
   "metadata": {},
   "outputs": [
    {
     "name": "stdout",
     "output_type": "stream",
     "text": [
      "(100, 28) 0.0101436339973588 0\n"
     ]
    }
   ],
   "source": [
    "# test\n",
    "test = datapoints[list(datapoints.keys())[0]][0]\n",
    "X, lifetime, cause = test\n",
    "print(X.shape, lifetime, cause)"
   ]
  },
  {
   "cell_type": "markdown",
   "metadata": {},
   "source": [
    "# Model"
   ]
  },
  {
   "cell_type": "markdown",
   "metadata": {},
   "source": [
    "Some remarks:\n",
    "- One convolutional network per head\n",
    "- FC layer applied after"
   ]
  },
  {
   "cell_type": "markdown",
   "metadata": {},
   "source": [
    "## A personal trial"
   ]
  },
  {
   "cell_type": "markdown",
   "metadata": {},
   "source": [
    "After several readings, two things remain very unclear.\n",
    "- Are there 3 DCC per head ? If not, a multihead attention with a 1D query and key is useless.\n",
    "- Once the series have been processed, what's the fully connected linear layer mentionned ?\n",
    "  \n",
    "Using `flow-forecast` seems like the best solution (could even be better)."
   ]
  },
  {
   "cell_type": "code",
   "execution_count": 9,
   "metadata": {},
   "outputs": [],
   "source": [
    "class MyLittleEncoder(nn.Module):\n",
    "\n",
    "    def __init__(self, n_time_series, kernel_size):\n",
    "        super().__init__()\n",
    "\n",
    "        # transformers params\n",
    "        n_heads = 4\n",
    "        \n",
    "        self.convolutions = []\n",
    "        for i in range(n_time_series):\n",
    "            self.convolutions.append(nn.Conv1d(1, 1, kernel_size, padding=kernel_size//2))\n",
    "        raise NotImplementedError\n",
    "    \n",
    "    def forward(self, x):\n",
    "        pass"
   ]
  },
  {
   "cell_type": "markdown",
   "metadata": {},
   "source": [
    "Some implementations:\n",
    "- https://github.com/mlpotter/Transformer_Time_Series\n",
    "- https://github.com/ghsama/ConvTransformerTimeSeries\n",
    "- https://github.com/AIStream-Peelout/flow-forecast"
   ]
  },
  {
   "cell_type": "markdown",
   "metadata": {},
   "source": [
    "## From flow-forecast"
   ]
  },
  {
   "cell_type": "code",
   "execution_count": 10,
   "metadata": {},
   "outputs": [],
   "source": [
    "from transformer_bottleneck import DecoderTransformer"
   ]
  },
  {
   "cell_type": "code",
   "execution_count": 11,
   "metadata": {},
   "outputs": [],
   "source": [
    "class Encoder(nn.Module):\n",
    "\n",
    "    def __init__(self, n_time_series):\n",
    "        super().__init__()\n",
    "\n",
    "        # transformers params\n",
    "        forecast_history = 100 # horizon\n",
    "        num_layer = 1\n",
    "        n_head = 4\n",
    "        self.n_time_series = n_time_series # number of features, may change\n",
    "        n_embd = 0 # ???\n",
    "        dropout = 0.1\n",
    "        self.q_len = 1 # ???\n",
    "        \n",
    "        # conv transformer\n",
    "        self.transformer = DecoderTransformer(n_time_series,\n",
    "                                              n_head,\n",
    "                                              num_layer,\n",
    "                                              n_embd,\n",
    "                                              forecast_history, \n",
    "                                              dropout,\n",
    "                                              self.q_len,\n",
    "                                              {},\n",
    "                                              forecast_length=4,\n",
    "                                              scale_att=False,\n",
    "                                              sub_len=3)\n",
    "    \n",
    "    def forward(self, x):\n",
    "        x = self.transformer(x)\n",
    "        return x"
   ]
  },
  {
   "cell_type": "code",
   "execution_count": 12,
   "metadata": {},
   "outputs": [
    {
     "name": "stdout",
     "output_type": "stream",
     "text": [
      "x before block:  torch.Size([1, 100, 28])\n",
      "query:  torch.Size([1, 4, 100, 28])\n",
      "key:  torch.Size([1, 4, 28, 100])\n",
      "value:  torch.Size([1, 4, 100, 28])\n",
      "after merge_heads:  torch.Size([1, 100, 112])\n",
      "after c_proj:  torch.Size([1, 100, 28])\n",
      "after attention:  torch.Size([1, 100, 28])\n",
      "after ln1:  torch.Size([1, 100, 28])\n",
      "after mlp1:  torch.Size([1, 100, 28])\n",
      "h:  torch.Size([1, 100, 28])\n",
      "\n",
      "output shape:  torch.Size([1, 4])\n",
      "tensor([[ 0.0585,  0.0960,  0.0659, -0.0498]], grad_fn=<SqueezeBackward1>)\n"
     ]
    },
    {
     "name": "stderr",
     "output_type": "stream",
     "text": [
      "c:\\Users\\Paul\\Documents\\X\\4A\\S1\\ML\\limit_order_book\\notebooks\\paul\\transformer_bottleneck.py:282: UserWarning: To copy construct from a tensor, it is recommended to use sourceTensor.clone().detach() or sourceTensor.clone().detach().requires_grad_(True), rather than torch.tensor(sourceTensor).\n",
      "  position = torch.tensor(torch.arange(length), dtype=torch.long).to(self.device)\n"
     ]
    }
   ],
   "source": [
    "# test\n",
    "n_timeseries = X.shape[1]\n",
    "mlm = Encoder(n_timeseries)\n",
    "batch = torch.tensor(X[np.newaxis,:],dtype=torch.float)\n",
    "phi = mlm(batch)\n",
    "print(\"\\noutput shape: \",phi.shape)\n",
    "print(phi)"
   ]
  },
  {
   "cell_type": "markdown",
   "metadata": {},
   "source": [
    "**About the weights initialization**  \n",
    "One wants:\n",
    "$\\mathbb{E}[w=e^{logw}]=1$  \n",
    "which implies $\\mu = -\\sigma²/2 = -a²/6$\n",
    "and $a = \\sqrt{\\frac{6}{\\text{fan\\_in} + \\text{fan\\_out}}}$"
   ]
  },
  {
   "cell_type": "code",
   "execution_count": 13,
   "metadata": {},
   "outputs": [],
   "source": [
    "class Decoder(nn.Module):\n",
    "    # Only supports batch\n",
    "\n",
    "    def __init__(self):\n",
    "        super().__init__()\n",
    "        # Params\n",
    "        input_dim,output_dim = 4,1\n",
    "        architecture = [input_dim,16,16,output_dim]\n",
    "\n",
    "        # fc first layer\n",
    "        self.fc = nn.Linear(input_dim, architecture[1],bias=False)\n",
    "\n",
    "        # log-weights\n",
    "        self.log_weights = []\n",
    "        self.log_weights.append(nn.Parameter(torch.Tensor(architecture[1], 1)))\n",
    "        for i in range(1, len(architecture) - 1):\n",
    "            self.log_weights.append(nn.Parameter(torch.Tensor(architecture[i + 1],architecture[i])))\n",
    "        \n",
    "        # reset parameters\n",
    "        self.reset_parameters()\n",
    "\n",
    "    def reset_parameters(self):\n",
    "        for log_weight in self.log_weights:\n",
    "            nn.init.xavier_uniform_(log_weight)\n",
    "            log_weight.data -= 1/sum(list(log_weight.data.shape))\n",
    "\n",
    "\n",
    "    def forward(self, phi, t, grad=False):\n",
    "        # forward\n",
    "        if t.ndim < 2:\n",
    "            t = torch.unsqueeze(t,-1)\n",
    "        t.requires_grad = True\n",
    "\n",
    "        # first layer\n",
    "        phi = self.fc(phi)\n",
    "        phi += nn.functional.linear(t, self.log_weights[0].exp())\n",
    "        phi = nn.functional.tanh(phi)\n",
    "        # print(\"phi after the first layer: \",phi)\n",
    "\n",
    "        # next layers\n",
    "        for log_weight in self.log_weights[1:-1]:\n",
    "            phi = nn.functional.linear(phi, log_weight.exp())\n",
    "            phi = nn.functional.tanh(phi)\n",
    "            # print(\"phi: \",phi)\n",
    "\n",
    "        # last layer\n",
    "        phi = nn.functional.linear(phi, self.log_weights[-1].exp())\n",
    "        phi = nn.functional.sigmoid(phi)\n",
    "        phi = torch.squeeze(phi, dim=-1)\n",
    "        # print(\"phi: \",phi)\n",
    "\n",
    "        # grad if necessary\n",
    "        if grad:\n",
    "            phi.backward(retain_graph=True)\n",
    "            grad = torch.squeeze(t.grad,dim=-1)\n",
    "            self.zero_grad()\n",
    "            return phi, grad\n",
    "        return phi"
   ]
  },
  {
   "cell_type": "code",
   "execution_count": 14,
   "metadata": {},
   "outputs": [
    {
     "data": {
      "text/plain": [
       "tensor([0.9970], grad_fn=<SqueezeBackward1>)"
      ]
     },
     "execution_count": 14,
     "metadata": {},
     "output_type": "execute_result"
    }
   ],
   "source": [
    "# test\n",
    "lifetime,cause = torch.tensor([lifetime]),torch.tensor([cause])\n",
    "decoder = Decoder()\n",
    "decoder(phi,lifetime)"
   ]
  },
  {
   "cell_type": "code",
   "execution_count": 15,
   "metadata": {},
   "outputs": [
    {
     "data": {
      "text/plain": [
       "<matplotlib.legend.Legend at 0x1d9dea62650>"
      ]
     },
     "execution_count": 15,
     "metadata": {},
     "output_type": "execute_result"
    },
    {
     "data": {
      "image/png": "[encoded data removed]",
      "text/plain": [
       "<Figure size 640x480 with 2 Axes>"
      ]
     },
     "metadata": {},
     "output_type": "display_data"
    }
   ],
   "source": [
    "# another test\n",
    "probas,grads = [],[]\n",
    "scale = 1e-1\n",
    "interval = np.arange(0.05*scale,1*scale,0.05*scale)\n",
    "for t in interval:\n",
    "    t = torch.tensor([t],dtype=torch.float)\n",
    "    proba,grad = decoder(phi,t,True)\n",
    "    probas.append(float(proba))\n",
    "    grads.append(float(grad))\n",
    "\n",
    "plt.plot(interval,probas,label=\"probas\")\n",
    "plt.ylabel(\"execution probability\")\n",
    "plt.ylim(0,1)\n",
    "twin = plt.gca().twinx()\n",
    "twin.plot(interval,grads,c='r',label=\"grads\")\n",
    "twin.set_ylabel(\"grad\")\n",
    "twin.set_ylim(0,1.1*max(grads))\n",
    "plt.legend()"
   ]
  },
  {
   "cell_type": "code",
   "execution_count": 32,
   "metadata": {},
   "outputs": [],
   "source": [
    "class EncoderDecoder(nn.Module):\n",
    "\n",
    "    def __init__(self, n_time_series):\n",
    "        super().__init__()\n",
    "        self.encoder = Encoder(n_time_series)\n",
    "        self.decoder = Decoder()\n",
    "        \n",
    "    \n",
    "    def forward(self, x, t, grad=False):\n",
    "        phi = self.encoder(x)\n",
    "        if grad:\n",
    "            exec_probas,hazard_rates = self.decoder(phi,t,True)\n",
    "            return exec_probas,hazard_rates\n",
    "        exec_probas = self.decoder(phi,t)\n",
    "        return exec_probas\n",
    "    \n",
    "    def train(self,dataloader):\n",
    "        # set up\n",
    "        loss_list = []\n",
    "        optimizer = torch.optim.Adam(self.parameters(), lr=1e-6)\n",
    "\n",
    "        # train, manual batch\n",
    "        for batch,lifetime,status in dataloader:\n",
    "            optimizer.zero_grad()\n",
    "            mean_loss = 0\n",
    "            for i in range(dataloader.batch_size):\n",
    "                X,t,cause = batch[i:i+1].float(),lifetime[i:i+1].float(), status[i:i+1].float()\n",
    "                exec_probas,hazard_rates = self.forward(X,t, True)\n",
    "                loss = torch.mean(cause*torch.log(hazard_rates)+(1-cause)*torch.log(1-exec_probas))\n",
    "                loss.backward()\n",
    "                mean_loss += float(loss)/dataloader.batch_size\n",
    "            if math.isnan(mean_loss):\n",
    "                    break\n",
    "            optimizer.step()\n",
    "            loss_list.append(mean_loss)\n",
    "            print(\"loss: \",float(loss))\n",
    "            \n",
    "        return loss_list"
   ]
  },
  {
   "cell_type": "code",
   "execution_count": 33,
   "metadata": {},
   "outputs": [
    {
     "name": "stdout",
     "output_type": "stream",
     "text": [
      "tensor([0.9780], grad_fn=<SqueezeBackward1>) tensor([5.2440])\n"
     ]
    }
   ],
   "source": [
    "# test\n",
    "my_little_model = EncoderDecoder(28)\n",
    "proba = my_little_model(batch,lifetime)\n",
    "\n",
    "proba,grad = my_little_model(batch,lifetime,True)\n",
    "print(proba,grad)"
   ]
  },
  {
   "cell_type": "code",
   "execution_count": 34,
   "metadata": {},
   "outputs": [
    {
     "data": {
      "text/plain": [
       "Text(0, 0.5, 'grad')"
      ]
     },
     "execution_count": 34,
     "metadata": {},
     "output_type": "execute_result"
    },
    {
     "data": {
      "image/png": "[encoded data removed]",
      "text/plain": [
       "<Figure size 640x480 with 2 Axes>"
      ]
     },
     "metadata": {},
     "output_type": "display_data"
    }
   ],
   "source": [
    "# another test\n",
    "probas,grads = [],[]\n",
    "scale = 1e-1\n",
    "interval = np.arange(0.05*scale,1*scale,0.05*scale)\n",
    "for t in interval:\n",
    "    t = torch.tensor([t],dtype=torch.float)\n",
    "    proba,grad = my_little_model(batch,t,True)\n",
    "    probas.append(float(proba))\n",
    "    grads.append(float(grad))\n",
    "\n",
    "plt.plot(interval,probas)\n",
    "plt.ylabel(\"execution probability\")\n",
    "plt.ylim(0,1)\n",
    "twin = plt.gca().twinx()\n",
    "twin.plot(interval,grads,c='r')\n",
    "twin.set_ylabel(\"grad\")"
   ]
  },
  {
   "cell_type": "markdown",
   "metadata": {},
   "source": [
    "## Training"
   ]
  },
  {
   "cell_type": "code",
   "execution_count": 35,
   "metadata": {},
   "outputs": [],
   "source": [
    "from torch.utils.data import DataLoader, Dataset\n",
    "\n",
    "class MyDataset(Dataset):\n",
    "    def __init__(self, datapoints):\n",
    "        self.datapoints = datapoints\n",
    "        \n",
    "    def __len__(self):\n",
    "        return len(self.datapoints)\n",
    "    \n",
    "    def __getitem__(self, idx):\n",
    "        return self.datapoints[idx]\n",
    "    \n",
    "# Create the dataset\n",
    "dataset = MyDataset(datapoints[0]) # level 0\n",
    "\n",
    "# Create the dataloader\n",
    "dataloader = DataLoader(dataset, batch_size=64, shuffle=True)"
   ]
  },
  {
   "cell_type": "markdown",
   "metadata": {},
   "source": [
    "Tests:\n",
    "- test without right censored elements\n",
    "- monitor the gradient flow"
   ]
  },
  {
   "cell_type": "code",
   "execution_count": 38,
   "metadata": {},
   "outputs": [
    {
     "data": {
      "text/plain": [
       "True"
      ]
     },
     "execution_count": 38,
     "metadata": {},
     "output_type": "execute_result"
    }
   ],
   "source": [
    "math.isnan(loss_list[0])"
   ]
  },
  {
   "cell_type": "code",
   "execution_count": 36,
   "metadata": {},
   "outputs": [
    {
     "name": "stdout",
     "output_type": "stream",
     "text": [
      "loss:  nan\n",
      "loss:  nan\n",
      "loss:  nan\n",
      "loss:  nan\n",
      "loss:  nan\n",
      "loss:  nan\n",
      "loss:  nan\n",
      "loss:  nan\n",
      "loss:  nan\n",
      "loss:  nan\n",
      "loss:  nan\n",
      "loss:  nan\n",
      "loss:  nan\n",
      "loss:  nan\n",
      "loss:  nan\n",
      "loss:  nan\n",
      "loss:  nan\n",
      "loss:  nan\n",
      "loss:  nan\n",
      "loss:  nan\n",
      "loss:  nan\n",
      "loss:  nan\n",
      "loss:  nan\n",
      "loss:  nan\n",
      "loss:  nan\n",
      "loss:  nan\n",
      "loss:  nan\n"
     ]
    },
    {
     "data": {
      "text/plain": [
       "[<matplotlib.lines.Line2D at 0x1d9efd56250>]"
      ]
     },
     "execution_count": 36,
     "metadata": {},
     "output_type": "execute_result"
    },
    {
     "data": {
      "image/png": "[encoded data removed]",
      "text/plain": [
       "<Figure size 640x480 with 1 Axes>"
      ]
     },
     "metadata": {},
     "output_type": "display_data"
    }
   ],
   "source": [
    "# train\n",
    "loss_list = my_little_model.train(dataloader)\n",
    "plt.plot(loss_list)"
   ]
  },
  {
   "cell_type": "code",
   "execution_count": null,
   "metadata": {},
   "outputs": [],
   "source": []
  },
  {
   "cell_type": "code",
   "execution_count": null,
   "metadata": {},
   "outputs": [],
   "source": []
  }
 ],
 "metadata": {
  "kernelspec": {
   "display_name": "lob",
   "language": "python",
   "name": "python3"
  },
  "language_info": {
   "codemirror_mode": {
    "name": "ipython",
    "version": 3
   },
   "file_extension": ".py",
   "mimetype": "text/x-python",
   "name": "python",
   "nbconvert_exporter": "python",
   "pygments_lexer": "ipython3",
   "version": "3.11.5"
  }
 },
 "nbformat": 4,
 "nbformat_minor": 2
}
